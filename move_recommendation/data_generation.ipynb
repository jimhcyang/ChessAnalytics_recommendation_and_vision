{
 "cells": [
  {
   "cell_type": "code",
   "execution_count": 1,
   "id": "237cfb9d",
   "metadata": {},
   "outputs": [],
   "source": [
    "# install the necessary library\n",
    "# uncomment as needed\n",
    "\n",
    "#pip install chess\n",
    "#pip install zstandard\n",
    "#pip install pydrive"
   ]
  },
  {
   "cell_type": "code",
   "execution_count": 2,
   "id": "e13320a9",
   "metadata": {},
   "outputs": [],
   "source": [
    "import os\n",
    "import datetime\n",
    "import chess\n",
    "import chess.engine\n",
    "import random\n",
    "import numpy as np\n",
    "from tqdm import tqdm\n",
    "import io\n",
    "import json\n",
    "import zstandard\n",
    "from pydrive.auth import GoogleAuth\n",
    "from pydrive.drive import GoogleDrive"
   ]
  },
  {
   "cell_type": "code",
   "execution_count": 31,
   "id": "bb518e91",
   "metadata": {},
   "outputs": [],
   "source": [
    "# helper function: download file from Google Drive\n",
    "\n",
    "def download_from_drive(file_name='lichess_db_eval.jsonl.zst', asset_dir='Mengqi_Input'):\n",
    "    gauth = GoogleAuth()\n",
    "    gauth.DEFAULT_SETTINGS['client_config_file'] = 'client_secret_1057507276332-5mk9ac9q22rsmtm1idlqvpraq08ar8p5.apps.googleusercontent.com.json'\n",
    "    gauth.LoadCredentialsFile(\"mycreds.txt\")\n",
    "    if gauth.credentials is None:\n",
    "        gauth.LocalWebserverAuth()\n",
    "    elif gauth.access_token_expired:\n",
    "        gauth.Refresh()\n",
    "    else:\n",
    "        gauth.Authorize()\n",
    "    gauth.SaveCredentialsFile(\"mycreds.txt\")\n",
    "    drive = GoogleDrive(gauth)\n",
    "\n",
    "    def find_folder_id(folder_name):\n",
    "        file_list = drive.ListFile({'q': f\"title='{folder_name}' and mimeType='application/vnd.google-apps.folder' and trashed=false\"}).GetList()\n",
    "        for file in file_list:\n",
    "            if file['title'] == folder_name:\n",
    "                return file['id']\n",
    "        return None\n",
    "\n",
    "    def download_zst_file_from_drive(file_title, parent_id):\n",
    "        query = f\"'{parent_id}' in parents and trashed=false and title='{file_title}'\"\n",
    "        file_list = drive.ListFile({'q': query}).GetList()\n",
    "        if not file_list:\n",
    "            print(f\"No file found with title: {file_title}\")\n",
    "            return None\n",
    "        file = file_list[0]\n",
    "        print(\"loading file...\") #3min\n",
    "        file.GetContentFile(file_title)\n",
    "        return file_title\n",
    "\n",
    "    asset_folder_id = find_folder_id(asset_dir)\n",
    "    if asset_folder_id is None:\n",
    "        print(\"Asset folder not found.\")\n",
    "        return None\n",
    "\n",
    "    file_path = download_zst_file_from_drive(file_name, asset_folder_id)\n",
    "    if file_path is None:\n",
    "        return None\n",
    "\n",
    "    print(\"Downloaded file: {}\".format(file_path))"
   ]
  },
  {
   "cell_type": "code",
   "execution_count": 32,
   "id": "39bd6004",
   "metadata": {},
   "outputs": [
    {
     "name": "stdout",
     "output_type": "stream",
     "text": [
      "loading file...\n",
      "Downloaded file: lichess_db_eval.jsonl.zst\n"
     ]
    }
   ],
   "source": [
    "download_from_drive(file_name='lichess_db_eval.jsonl.zst', asset_dir='Mengqi_Input')"
   ]
  },
  {
   "cell_type": "code",
   "execution_count": null,
   "id": "0e1e4b57",
   "metadata": {},
   "outputs": [],
   "source": [
    "# uncomment the next block of code to load the input data from the original\n",
    "# ZST file and dump as JSON file.\n",
    "# saves a JSON file per 1M entries\n",
    "# take a while...\n",
    "\n",
    "#     fen_data = {}\n",
    "#     counter = 0\n",
    "#     with open(file_path, 'rb') as f:\n",
    "#         decompressor = zstandard.ZstdDecompressor()\n",
    "#         with decompressor.stream_reader(f) as reader:\n",
    "#             text_stream = io.TextIOWrapper(reader, encoding='utf-8')\n",
    "#             for line in text_stream:\n",
    "#                 counter += 1\n",
    "#                 data = json.loads(line)\n",
    "#                 fen_data[counter] = data\n",
    "#                 if counter % 1000000 == 0:\n",
    "#                     output_path = f\"lichess_db_eval.{counter // 1000000}.json\"\n",
    "#                     with open(output_path, 'w') as output:\n",
    "#                         json.dump(fen_data, output)\n",
    "#                     break\n",
    "\n",
    "#     print(f\"Loaded {counter} FEN positions\")"
   ]
  },
  {
   "cell_type": "code",
   "execution_count": 33,
   "id": "9b4455dc",
   "metadata": {},
   "outputs": [
    {
     "name": "stdout",
     "output_type": "stream",
     "text": [
      "loading file...\n",
      "Downloaded file: lichess_db_eval.1.json\n"
     ]
    }
   ],
   "source": [
    "# other than loading the original ZST file and dump the JSON,\n",
    "# here loads a JSON file pre-processed from the code block above\n",
    "\n",
    "download_from_drive(file_name='lichess_db_eval.1.json', asset_dir='Mengqi_Input')\n",
    "\n",
    "with open(\"lichess_db_eval.1.json\", 'r') as json_file:\n",
    "    lichessdata = json.load(json_file)"
   ]
  },
  {
   "cell_type": "code",
   "execution_count": 34,
   "id": "25713de5",
   "metadata": {},
   "outputs": [
    {
     "data": {
      "text/plain": [
       "1000000"
      ]
     },
     "execution_count": 34,
     "metadata": {},
     "output_type": "execute_result"
    }
   ],
   "source": [
    "len(lichessdata)"
   ]
  },
  {
   "cell_type": "code",
   "execution_count": 36,
   "id": "6afa46b2",
   "metadata": {},
   "outputs": [
    {
     "name": "stdout",
     "output_type": "stream",
     "text": [
      "loading file...\n",
      "Downloaded file: stockfish-windows-x86-64-avx2.exe\n"
     ]
    }
   ],
   "source": [
    "# download the stockfish engine for evaluation generation\n",
    "\n",
    "download_from_drive(file_name='stockfish-windows-x86-64-avx2.exe', asset_dir='Mengqi_Input')"
   ]
  },
  {
   "cell_type": "code",
   "execution_count": 37,
   "id": "cfd366f2",
   "metadata": {},
   "outputs": [],
   "source": [
    "# help functions\n",
    "\n",
    "def stockfish(board, depth):\n",
    "    with chess.engine.SimpleEngine.popen_uci(\"stockfish-windows-x86-64-avx2\") as sf:\n",
    "        result = sf.analyse(board, chess.engine.Limit(depth=depth))\n",
    "        score = result['score'].white().score()\n",
    "    return score\n",
    "\n",
    "def board_encoder(board):\n",
    "    encoded_board = np.zeros([8,8,15]).astype(np.int8)\n",
    "    fen = board.fen()\n",
    "    fen_field = fen.split(' ')\n",
    "    PiecePlacement = fen_field[0].split('/')\n",
    "    piece_dict = {\"R\":0, \"N\":1, \"B\":2, \"Q\":3, \"K\":4, \"P\":5,\n",
    "                \"r\":6, \"n\":7, \"b\":8, \"q\":9, \"k\":10, \"p\":11\n",
    "                }\n",
    "    for rank in range(8):\n",
    "        pieces = ''\n",
    "        for c in PiecePlacement[rank]:\n",
    "            if c.isnumeric():\n",
    "                pieces += '-'*int(c)\n",
    "            else:\n",
    "                pieces += c\n",
    "        for file in range(8):\n",
    "            if pieces[file] != '-':\n",
    "                encoded_board[rank, file, piece_dict[pieces[file]]] = 1\n",
    "    # plane 12 encodes all the legal moves of white\n",
    "    aux = board.turn\n",
    "    board.turn = chess.WHITE\n",
    "    for move in board.legal_moves:\n",
    "        encoded_board[7-np.unravel_index(move.to_square, (8,8))[0], np.unravel_index(move.to_square, (8,8))[1], 12] = 1\n",
    "    # plane 13 encodes all the legal moves of black\n",
    "    board.turn = chess.BLACK\n",
    "    for move in board.legal_moves:\n",
    "        encoded_board[7-np.unravel_index(move.to_square, (8,8))[0], np.unravel_index(move.to_square, (8,8))[1], 13] = 1\n",
    "    board.turn = aux\n",
    "    # plane 14 encodes the current player to move: white is 1, black is 0\n",
    "    if fen_field[1] == 'w':\n",
    "        encoded_board[:,:,14] = 1\n",
    "    else:\n",
    "        encoded_board[:,:,14] = 0\n",
    "    return encoded_board"
   ]
  },
  {
   "cell_type": "code",
   "execution_count": null,
   "id": "b92cf8e8",
   "metadata": {},
   "outputs": [],
   "source": [
    "# generate the input data:\n",
    "# X: encoded chess board\n",
    "# y: stockfish evaluation\n",
    "# save a .npz file every 100k entries\n",
    "\n",
    "dataset_board = []\n",
    "dataset_v = []\n",
    "counter = 0\n",
    "for game in tqdm(lichessdata):\n",
    "    counter += 1\n",
    "    try:\n",
    "        board = chess.Board(fen=lichessdata[game]['fen'])\n",
    "        v = stockfish(board, 5)\n",
    "    except:\n",
    "        continue\n",
    "    if v is not None:\n",
    "        dataset_board.append(board_encoder(board))\n",
    "        dataset_v.append(v)\n",
    "    if counter % 100000 == 0:\n",
    "        dataset_board = np.array(dataset_board, dtype=np.int8)\n",
    "        dataset_v = np.array(dataset_v, dtype=np.int16)\n",
    "        np.savez(\"dataset_lichess\"+str(counter // 100000)+\".Mar21.npz\", X=dataset_board, y=dataset_v)\n",
    "        dataset_board = []\n",
    "        dataset_v = []"
   ]
  },
  {
   "cell_type": "code",
   "execution_count": null,
   "id": "c2fae3ee",
   "metadata": {},
   "outputs": [],
   "source": []
  }
 ],
 "metadata": {
  "kernelspec": {
   "display_name": "Python 3 (ipykernel)",
   "language": "python",
   "name": "python3"
  },
  "language_info": {
   "codemirror_mode": {
    "name": "ipython",
    "version": 3
   },
   "file_extension": ".py",
   "mimetype": "text/x-python",
   "name": "python",
   "nbconvert_exporter": "python",
   "pygments_lexer": "ipython3",
   "version": "3.10.9"
  }
 },
 "nbformat": 4,
 "nbformat_minor": 5
}
