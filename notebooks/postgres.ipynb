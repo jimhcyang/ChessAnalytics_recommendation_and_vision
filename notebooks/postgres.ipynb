{
 "cells": [
  {
   "cell_type": "code",
   "execution_count": 1,
   "metadata": {},
   "outputs": [],
   "source": [
    "import psycopg2\n",
    "from psycopg2 import sql\n",
    "from psycopg2.extras import execute_values\n",
    "\n",
    "from board_utils import *"
   ]
  },
  {
   "cell_type": "code",
   "execution_count": 2,
   "metadata": {},
   "outputs": [
    {
     "name": "stderr",
     "output_type": "stream",
     "text": [
      "Loading games: 100%|██████████| 1000/1000 [00:03<00:00, 250.41game/s]\n"
     ]
    }
   ],
   "source": [
    "assets_path = os.path.join(os.path.dirname(os.getcwd()), 'data')\n",
    "single_path = os.path.join(assets_path, 'caissa_ksample.pgn')\n",
    "\n",
    "games = load_pgns(single_path, 1000)\n",
    "games = [game for game in games if len(str(game.mainline_moves())) > 0]"
   ]
  },
  {
   "cell_type": "code",
   "execution_count": 3,
   "metadata": {},
   "outputs": [],
   "source": [
    "def get_keys_func(board_vec):\n",
    "    self_material_count = int(sum(board_vec[780:785] * [0,6,6,10,9]))\n",
    "    opp_material_count = int(sum(board_vec[785:790] * [0,6,6,10,9]))\n",
    "    diff_material_count = self_material_count - opp_material_count\n",
    "    self_castle_available = int(sum(board_vec[768:770]) > 0)\n",
    "    opp_castle_available = int(sum(board_vec[770:772]) > 0)\n",
    "    position_in_endgame = int(sum(board_vec[780:790] * [0,2,2,2,1,0,2,2,2,1]) < 6)\n",
    "    return self_material_count, opp_material_count, diff_material_count, self_castle_available, opp_castle_available, position_in_endgame"
   ]
  },
  {
   "cell_type": "code",
   "execution_count": 4,
   "metadata": {},
   "outputs": [],
   "source": [
    "conn = psycopg2.connect(\n",
    "    dbname=\"capstone\",\n",
    "    user=\"postgres\",\n",
    "    password=\"postgres\",\n",
    ")\n",
    "\n",
    "cur = conn.cursor()"
   ]
  },
  {
   "cell_type": "code",
   "execution_count": 5,
   "metadata": {},
   "outputs": [],
   "source": [
    "create_table_positions = \"\"\"\n",
    "CREATE TABLE IF NOT EXISTS positions (\n",
    "    position_id SERIAL,\n",
    "    game_id INT,\n",
    "    self_material_count INT,\n",
    "    opp_material_count INT,\n",
    "    diff_material_count INT,\n",
    "    self_castle_available INT,\n",
    "    opp_castle_available INT,\n",
    "    position_in_endgame INT,\n",
    "    vector_int INT[],\n",
    "    vector_float REAL[],\n",
    "    PRIMARY KEY(position_id)\n",
    ")\n",
    "\"\"\"\n",
    "\n",
    "create_table_players = \"\"\"\n",
    "CREATE TABLE IF NOT EXISTS players (\n",
    "    player_id SERIAL,\n",
    "    player_fide_id INT,\n",
    "    player_name VARCHAR(256),\n",
    "    PRIMARY KEY(player_id)\n",
    ")\n",
    "\"\"\"\n",
    "\n",
    "create_table_game_details = \"\"\"\n",
    "CREATE TABLE IF NOT EXISTS games (\n",
    "    game_id SERIAL,\n",
    "    white_id INT,\n",
    "    black_id INT,\n",
    "    white_elo INT,\n",
    "    black_elo INT,\n",
    "    white_title VARCHAR(16),\n",
    "    black_title VARCHAR(16),\n",
    "    event VARCHAR(256),\n",
    "    site VARCHAR(256),\n",
    "    date VARCHAR(64),\n",
    "    round VARCHAR(64),\n",
    "    result VARCHAR(16),\n",
    "    eco VARCHAR(16),\n",
    "    opening VARCHAR(256),\n",
    "    variation VARCHAR(256),\n",
    "    PRIMARY KEY(game_id)\n",
    ")\n",
    "\"\"\"\n",
    "\n",
    "cur.execute(\"DROP TABLE IF EXISTS positions\")\n",
    "cur.execute(\"DROP TABLE IF EXISTS players\")\n",
    "cur.execute(\"DROP TABLE IF EXISTS games\")\n",
    "cur.execute(create_table_positions)\n",
    "cur.execute(create_table_players)\n",
    "cur.execute(create_table_game_details)"
   ]
  },
  {
   "cell_type": "code",
   "execution_count": 6,
   "metadata": {},
   "outputs": [
    {
     "name": "stdout",
     "output_type": "stream",
     "text": [
      "All tables in the database:\n",
      "positions\n",
      "players\n",
      "games\n"
     ]
    }
   ],
   "source": [
    "query = \"\"\"\n",
    "SELECT table_name\n",
    "FROM information_schema.tables\n",
    "WHERE table_schema = 'public'\n",
    "\"\"\"\n",
    "\n",
    "cur.execute(query)\n",
    "tables = cur.fetchall()\n",
    "print(\"All tables in the database:\")\n",
    "for table in tables:\n",
    "    print(table[0])"
   ]
  },
  {
   "cell_type": "code",
   "execution_count": 7,
   "metadata": {},
   "outputs": [],
   "source": [
    "def insert_or_get_player_id(player_details):\n",
    "    cur.execute(\"SELECT player_id FROM players WHERE player_fide_id = %s OR player_name = %s\", \n",
    "                (player_details['fide_id'], player_details['name']))\n",
    "    result = cur.fetchone()\n",
    "    if result:\n",
    "        return result[0]\n",
    "    else:\n",
    "        cur.execute(\"INSERT INTO players (player_fide_id, player_name) VALUES (%s, %s) RETURNING player_id\", \n",
    "                    (player_details['fide_id'], player_details['name']))\n",
    "        conn.commit()\n",
    "        return cur.fetchone()[0]\n",
    "\n",
    "for game_count, game in enumerate(games):\n",
    "    metadata_dict = dict(game.headers)\n",
    "    game_matrix = game_to_csr_matrix(game, csr=False)\n",
    "\n",
    "    cur.execute(\"\"\"\n",
    "    INSERT INTO games (event, site, date, round, result, eco, opening, variation, white_elo, black_elo, white_title, black_title) \n",
    "    VALUES (%s, %s, %s, %s, %s, %s, %s, %s, %s, %s, %s, %s) RETURNING game_id\n",
    "    \"\"\", (\n",
    "        metadata_dict.get('Event'), metadata_dict.get('Site'), metadata_dict.get('Date'),\n",
    "        metadata_dict.get('Round'), metadata_dict.get('Result'), metadata_dict.get('ECO'),\n",
    "        metadata_dict.get('Opening'), metadata_dict.get('Variation'), metadata_dict.get('WhiteElo'),\n",
    "        metadata_dict.get('BlackElo'), metadata_dict.get('WhiteTitle'), metadata_dict.get('BlackTitle')\n",
    "    ))\n",
    "    game_id = cur.fetchone()[0]\n",
    "    \n",
    "    white_id = insert_or_get_player_id({'fide_id': metadata_dict.get('WhiteFideId'), 'name': metadata_dict['White']})\n",
    "    black_id = insert_or_get_player_id({'fide_id': metadata_dict.get('BlackFideId'), 'name': metadata_dict['Black']})\n",
    "    cur.execute(\"UPDATE games SET white_id = %s, black_id = %s WHERE game_id = %s\", (white_id, black_id, game_id))\n",
    "\n",
    "    integer_matrix = game_matrix[:, :780]\n",
    "    float_matrix = game_matrix[:, 780:]\n",
    "    \n",
    "    position_records = []\n",
    "    for i in range(len(game_matrix)):\n",
    "        position_vars = get_keys_func(np.concatenate([integer_matrix[i], float_matrix[i]]))\n",
    "        position_record = (game_id, *position_vars, list(integer_matrix[i]), list(float_matrix[i]))\n",
    "        position_records.append(position_record)\n",
    "\n",
    "    execute_values(cur, \"\"\"\n",
    "    INSERT INTO positions (game_id, self_material_count, opp_material_count, diff_material_count, \n",
    "    self_castle_available, opp_castle_available, position_in_endgame, vector_int, vector_float) \n",
    "    VALUES %s\n",
    "    \"\"\", position_records)\n",
    "    if game_count % 64 == 0:\n",
    "        conn.commit()\n",
    "conn.commit()"
   ]
  },
  {
   "cell_type": "code",
   "execution_count": 8,
   "metadata": {},
   "outputs": [
    {
     "name": "stdout",
     "output_type": "stream",
     "text": [
      "All tables in the database:\n",
      "(6575,)\n"
     ]
    }
   ],
   "source": [
    "query = \"\"\"\n",
    "WITH combined_ids AS (\n",
    "    SELECT black_id AS player_id FROM games\n",
    "    UNION ALL\n",
    "    SELECT white_id AS player_id FROM games\n",
    "),\n",
    "frequency AS (\n",
    "    SELECT player_id, COUNT(*) AS freq\n",
    "    FROM combined_ids\n",
    "    GROUP BY player_id\n",
    ")\n",
    "SELECT p.player_name, f.freq\n",
    "FROM frequency f\n",
    "JOIN players p ON p.player_id = f.player_id\n",
    "ORDER BY f.freq DESC LIMIT 100;\n",
    "\"\"\"\n",
    "\n",
    "#self_material_count, opp_material_count, diff_material_count, self_castle_available, opp_castle_available, position_in_endgame\n",
    "sm, om, dm, sc, oc, pe = (10,10,0,0,0,1)\n",
    "\n",
    "query = f'''\n",
    "SELECT COUNT(*) FROM positions\n",
    "WHERE self_material_count < {sm+5.5} AND self_material_count > {sm-5.5} \n",
    "AND self_material_count < {om+5.5} AND self_material_count > {om-5.5} \n",
    "AND self_material_count < {dm+5.5} AND self_material_count > {dm-5.5} \n",
    "AND (self_castle_available = {sc} OR opp_castle_available = {oc})\n",
    "AND position_in_endgame = {pe}\n",
    "'''\n",
    "\n",
    "cur.execute(query)\n",
    "tables = cur.fetchall()\n",
    "print(\"All tables in the database:\")\n",
    "for table in tables:\n",
    "    print(table)"
   ]
  }
 ],
 "metadata": {
  "kernelspec": {
   "display_name": "Python 3",
   "language": "python",
   "name": "python3"
  },
  "language_info": {
   "codemirror_mode": {
    "name": "ipython",
    "version": 3
   },
   "file_extension": ".py",
   "mimetype": "text/x-python",
   "name": "python",
   "nbconvert_exporter": "python",
   "pygments_lexer": "ipython3",
   "version": "3.11.1"
  }
 },
 "nbformat": 4,
 "nbformat_minor": 2
}
