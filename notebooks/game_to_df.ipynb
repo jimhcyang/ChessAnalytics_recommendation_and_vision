{
 "cells": [
  {
   "cell_type": "code",
   "execution_count": 1,
   "id": "c258d33f-b27f-4a5c-b3e4-e54472124782",
   "metadata": {},
   "outputs": [],
   "source": [
    "import chess\n",
    "import chess.pgn\n",
    "import os\n",
    "import re\n",
    "import numpy as np\n",
    "import pandas as pd\n",
    "from tqdm import tqdm"
   ]
  },
  {
   "cell_type": "code",
   "execution_count": 2,
   "id": "45ece692-19c5-4b39-9de8-e49eb896776c",
   "metadata": {},
   "outputs": [],
   "source": [
    "def load_pgns(file_path, num_games=None, start_index=0, encoding=\"utf-8\"):\n",
    "    games = []\n",
    "    with open(file_path, \"r\", encoding=encoding) as file:\n",
    "        for _ in tqdm(range(start_index), desc='Skipping games', unit='game', leave=False):\n",
    "            game = chess.pgn.read_game(file)\n",
    "            if game is None:\n",
    "                break\n",
    "        for _ in tqdm(range(num_games), desc='Loading games', unit='game', leave=True) if num_games else iter(int, 1):\n",
    "            game = chess.pgn.read_game(file)\n",
    "            if game is None:\n",
    "                break\n",
    "            games.append(game)\n",
    "    return games"
   ]
  },
  {
   "cell_type": "code",
   "execution_count": 3,
   "id": "b53c95ff-73b8-4e58-b278-86d526a6957a",
   "metadata": {},
   "outputs": [
    {
     "name": "stderr",
     "output_type": "stream",
     "text": [
      "                                      \r"
     ]
    },
    {
     "name": "stderr",
     "output_type": "stream",
     "text": [
      "Loading games: 100%|██████████| 1000/1000 [00:02<00:00, 405.78game/s]"
     ]
    },
    {
     "name": "stdout",
     "output_type": "stream",
     "text": [
      "CPU times: total: 1.36 s\n",
      "Wall time: 2.48 s\n"
     ]
    },
    {
     "name": "stderr",
     "output_type": "stream",
     "text": [
      "\n"
     ]
    }
   ],
   "source": [
    "%%time\n",
    "assets_path = os.path.join(os.path.dirname(os.getcwd()), 'data')\n",
    "single_path = os.path.join(assets_path, 'kgames_sample.pgn')\n",
    "games = load_pgns(single_path, 1000)\n",
    "game = games[0]\n",
    "board = game.board()"
   ]
  },
  {
   "cell_type": "code",
   "execution_count": 4,
   "id": "0624c00d-f9f8-4bdd-b626-83e1dcff242f",
   "metadata": {},
   "outputs": [],
   "source": [
    "def get_eval_from_result(result):\n",
    "    if result == '1-0':\n",
    "        return 64\n",
    "    elif result == '0-1':\n",
    "        return -64\n",
    "    else:\n",
    "        return 0\n",
    "        \n",
    "def extract_eval_clk_from_pgn(input, result=''):\n",
    "    clk_pattern = r\"\\[%clk\\s+([0-9:]+)\\]\"\n",
    "    eval_pattern = r\"\\[%eval\\s+([0-9.-]+)\\]\"\n",
    "    mate_pattern = r\"\\[%eval\\s+#([0-9.-]+)\\]\"\n",
    "    clk = re.search(clk_pattern, input)\n",
    "    clk = clk.group(1) if clk else None\n",
    "    eval = re.search(eval_pattern, input)\n",
    "    eval = eval.group(1) if eval else None\n",
    "    if not eval:\n",
    "        eval = re.search(mate_pattern, input)\n",
    "        eval = int(eval.group(1)) if eval else get_eval_from_result(result)\n",
    "        if eval > 0:\n",
    "            eval = 64\n",
    "        else:\n",
    "            eval = -64\n",
    "    return eval, clk\n",
    "\n",
    "def time_control_to_list(time_control_obj):\n",
    "    time_control = [float(x) for x in time_control_obj.split('+')]\n",
    "    time_control += [0] * (2 - len(time_control))\n",
    "    if time_control[0] < 30:\n",
    "        time_control[0] = time_control[0] * 60\n",
    "    return time_control\n",
    "        \n",
    "def eval_to_cp(eval):\n",
    "    eval = float(eval)\n",
    "    return eval * 100\n",
    "\n",
    "def clk_to_time(clk):\n",
    "    h, m, s = clk.split(\":\")\n",
    "    t = int(h) * 3600 + int(m) * 60 + int(s)\n",
    "    return t\n",
    "\n",
    "def eval_to_game_state(value, cuts = None):\n",
    "    if cuts == None:\n",
    "        cuts = [np.inf, 375, 250, 150, 75, 25, -25, -75, -150, -250, -375, -np.inf]\n",
    "    for i in range(len(cuts) - 1):\n",
    "        if cuts[i] >= value > cuts[i + 1]:\n",
    "            return round(1-i/10, 2)\n",
    "\n",
    "def fen_to_array(fen, mask=False):\n",
    "    piece_mapping = {'p': -1, 'n': -2, 'b': -3, 'r': -4, 'q': -5, 'k': -6,\n",
    "                     'P': 1, 'N': 2, 'B': 3, 'R': 4, 'Q': 5, 'K': 6}\n",
    "    board_fen, turn, castling, en_passant, halfmove, fullmove = fen.split()\n",
    "    board_array = [0] * 64\n",
    "    rank = 7\n",
    "    file = 0\n",
    "    for char in board_fen:\n",
    "        if char.isdigit():\n",
    "            file += int(char)\n",
    "        elif char == '/':\n",
    "            rank -= 1\n",
    "            file = 0\n",
    "        else:\n",
    "            index = rank * 8 + file\n",
    "            board_array[index] = piece_mapping[char]\n",
    "            file += 1\n",
    "    if mask:\n",
    "        arrays = [(np.array(board_array) == val).astype(int) for val in range(-6, 7) if val != 0]\n",
    "        return np.array(arrays).flatten()\n",
    "    else:\n",
    "        return np.array(board_array)\n",
    "\n",
    "def determine_move_quality(df):\n",
    "    subjective_state = 20 * (df['game_state'] - 0.5) * np.power(-1, np.arange(len(df))) / 10\n",
    "    delta_state = -10 * pd.concat([pd.Series([0.6]), df['game_state']]).diff().iloc[1:] * np.power(-1, np.arange(len(df))) / 10\n",
    "    near_equality = np.abs(subjective_state) < 0.5\n",
    "    decisive_advantage = np.abs(subjective_state) > 0.7\n",
    "    fate_sealed = np.abs(subjective_state) > 0.9\n",
    "\n",
    "    move_quality = np.full(len(df), 4) # Default to 4 (Mistake)\n",
    "    move_quality[(delta_state > .45) | ((delta_state > .35) & decisive_advantage) | ((delta_state > .25) & fate_sealed)] = 5 # Blunder\n",
    "    move_quality[((delta_state < .25) & ~decisive_advantage) | ((delta_state < .35) & near_equality)] = 3 # Inaccuracy\n",
    "    move_quality[(delta_state < .15)] = 2 # Good\n",
    "    move_quality[(delta_state < .05) & (subjective_state > -1)] = 1 # Great\n",
    "    return move_quality.tolist()"
   ]
  },
  {
   "cell_type": "code",
   "execution_count": 5,
   "id": "08b06f72-1019-4fa6-b282-c3c4be76f720",
   "metadata": {},
   "outputs": [],
   "source": [
    "def game_to_df(game, mask=False):\n",
    "    result = game.headers['Result']\n",
    "    board = game.board()\n",
    "    moves = [move for move in game.mainline_moves()]\n",
    "    board = game.board()\n",
    "    node = game\n",
    "    ply = 0\n",
    "    df = pd.DataFrame(columns=['lan', 'game_state', 'time_remain', 'time_spent', 'fen_array', 'fen_string'])\n",
    "    time_controls = time_control_to_list(game.headers['TimeControl'])\n",
    "    current_clock = [time_controls[0] + time_controls[1]]*2\n",
    "    for move in moves:\n",
    "        turn = ply%2\n",
    "        current_clock[turn] += time_controls[1]\n",
    "        ply += 1\n",
    "        node = node.next()\n",
    "        eval, clk = extract_eval_clk_from_pgn(node.comment, result)\n",
    "        eval = eval_to_game_state(eval_to_cp(eval))\n",
    "    \n",
    "        clk = clk_to_time(clk)    \n",
    "        t_spent = current_clock[turn] - clk\n",
    "        current_clock[turn] = clk\n",
    "        \n",
    "        lan = board.lan(move)\n",
    "        fen_str = board.fen()\n",
    "        fen_arr = fen_to_array(fen_str, mask)\n",
    "        board.push(move)\n",
    "        new_row = {'lan': lan, 'game_state': eval, 'time_remain': clk, 'time_spent':t_spent, 'fen_array': fen_arr, 'fen_string': fen_str}\n",
    "        df.loc[ply] = new_row\n",
    "    return df\n"
   ]
  },
  {
   "cell_type": "code",
   "execution_count": 6,
   "id": "ba54065a-8699-435c-b285-9a2ae7ab2538",
   "metadata": {},
   "outputs": [
    {
     "data": {
      "text/plain": [
       "array([ 4,  2,  3,  0,  6,  3,  2,  4,  1,  1,  1,  0,  1,  1,  1,  1,  0,\n",
       "        0,  0,  0,  0,  0,  0,  0,  0,  0,  0,  0,  0,  0,  0,  0,  0,  0,\n",
       "        0,  5,  0,  0,  0,  0,  0,  0,  0,  0,  0,  0,  0,  0, -1, -1, -1,\n",
       "       -1,  0, -1, -1, -1, -4, -2, -3, -5, -6, -3, -2, -4])"
      ]
     },
     "execution_count": 6,
     "metadata": {},
     "output_type": "execute_result"
    }
   ],
   "source": [
    "df = game_to_df(game)\n",
    "#df = game_to_df(game, True)\n",
    "\n",
    "df['move_quality'] = determine_move_quality(df)\n",
    "df[df['move_quality']>2]['fen_array'][6]"
   ]
  }
 ],
 "metadata": {
  "kernelspec": {
   "display_name": "Python 3 (ipykernel)",
   "language": "python",
   "name": "python3"
  },
  "language_info": {
   "codemirror_mode": {
    "name": "ipython",
    "version": 3
   },
   "file_extension": ".py",
   "mimetype": "text/x-python",
   "name": "python",
   "nbconvert_exporter": "python",
   "pygments_lexer": "ipython3",
   "version": "3.11.1"
  }
 },
 "nbformat": 4,
 "nbformat_minor": 5
}
