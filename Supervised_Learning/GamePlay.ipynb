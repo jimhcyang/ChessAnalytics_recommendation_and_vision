{
  "cells": [
    {
      "cell_type": "code",
      "execution_count": 1,
      "metadata": {
        "colab": {
          "base_uri": "https://localhost:8080/"
        },
        "id": "3ksAKa7NU3sU",
        "outputId": "b925641d-549f-4407-f75e-f7e5924c117b"
      },
      "outputs": [
        {
          "output_type": "stream",
          "name": "stdout",
          "text": [
            "Collecting chess\n",
            "  Downloading chess-1.10.0-py3-none-any.whl (154 kB)\n",
            "\u001b[2K     \u001b[90m━━━━━━━━━━━━━━━━━━━━━━━━━━━━━━━━━━━━━━━━\u001b[0m \u001b[32m154.4/154.4 kB\u001b[0m \u001b[31m1.5 MB/s\u001b[0m eta \u001b[36m0:00:00\u001b[0m\n",
            "\u001b[?25hInstalling collected packages: chess\n",
            "Successfully installed chess-1.10.0\n"
          ]
        }
      ],
      "source": [
        "pip install chess"
      ]
    },
    {
      "cell_type": "code",
      "execution_count": 2,
      "metadata": {
        "id": "YTcA8Xj1Ig84"
      },
      "outputs": [],
      "source": [
        "import os\n",
        "import datetime\n",
        "import chess\n",
        "import chess.engine\n",
        "import chess.svg\n",
        "import chess.pgn\n",
        "import random\n",
        "import numpy as np\n",
        "import math\n",
        "import pydot\n",
        "from tqdm import tqdm\n",
        "import io\n",
        "import json\n",
        "import graphviz\n",
        "import torch\n",
        "import torch.nn as nn\n",
        "import torch.nn.functional as F\n",
        "import torch.optim as optim\n",
        "from torch.utils.data import Dataset, DataLoader\n",
        "import matplotlib\n",
        "matplotlib.use(\"Agg\")\n",
        "import matplotlib.pyplot as plt\n",
        "%matplotlib inline\n",
        "from IPython.display import display, SVG\n",
        "from sklearn.preprocessing import MinMaxScaler"
      ]
    },
    {
      "cell_type": "code",
      "execution_count": 3,
      "metadata": {
        "colab": {
          "base_uri": "https://localhost:8080/"
        },
        "id": "CGS01PQlIjkK",
        "outputId": "848d000d-7925-436b-c5ae-d1ba6fed8209"
      },
      "outputs": [
        {
          "output_type": "stream",
          "name": "stdout",
          "text": [
            "Mounted at /content/drive/\n"
          ]
        }
      ],
      "source": [
        "from google.colab import drive\n",
        "drive.mount('/content/drive/')"
      ]
    },
    {
      "cell_type": "code",
      "execution_count": null,
      "metadata": {
        "colab": {
          "base_uri": "https://localhost:8080/"
        },
        "id": "jCEUlU8qIoYo",
        "outputId": "3c4dace8-3e9f-460e-e6bd-301fbe2490f4"
      },
      "outputs": [
        {
          "name": "stdout",
          "output_type": "stream",
          "text": [
            "Reading package lists... Done\n",
            "Building dependency tree... Done\n",
            "Reading state information... Done\n",
            "Suggested packages:\n",
            "  polyglot xboard | scid\n",
            "The following NEW packages will be installed:\n",
            "  stockfish\n",
            "0 upgraded, 1 newly installed, 0 to remove and 45 not upgraded.\n",
            "Need to get 24.8 MB of archives.\n",
            "After this operation, 47.4 MB of additional disk space will be used.\n",
            "Get:1 http://archive.ubuntu.com/ubuntu jammy/universe amd64 stockfish amd64 14.1-1 [24.8 MB]\n",
            "Fetched 24.8 MB in 1s (43.6 MB/s)\n",
            "Selecting previously unselected package stockfish.\n",
            "(Reading database ... 121753 files and directories currently installed.)\n",
            "Preparing to unpack .../stockfish_14.1-1_amd64.deb ...\n",
            "Unpacking stockfish (14.1-1) ...\n",
            "Setting up stockfish (14.1-1) ...\n",
            "Processing triggers for man-db (2.10.2-1) ...\n"
          ]
        }
      ],
      "source": [
        "!apt-get install -y stockfish"
      ]
    },
    {
      "cell_type": "code",
      "execution_count": null,
      "metadata": {
        "id": "fLT8TQaIIvXt"
      },
      "outputs": [],
      "source": [
        "# help functions\n",
        "\n",
        "def stockfish(board, depth):\n",
        "  with chess.engine.SimpleEngine.popen_uci(\"/usr/games/stockfish\") as sf:\n",
        "    result = sf.analyse(board, chess.engine.Limit(depth=depth))\n",
        "    score = result['score'].white().score()\n",
        "  return score\n",
        "\n",
        "# encode the legal moves\n",
        "def board_encoder15(board):\n",
        "  encoded_board = np.zeros([8,8,15]).astype(np.int8)\n",
        "  fen = board.fen()\n",
        "  fen_field = fen.split(' ')\n",
        "  PiecePlacement = fen_field[0].split('/')\n",
        "  piece_dict = {\"R\":0, \"N\":1, \"B\":2, \"Q\":3, \"K\":4, \"P\":5,\n",
        "                \"r\":6, \"n\":7, \"b\":8, \"q\":9, \"k\":10, \"p\":11\n",
        "                }\n",
        "  for rank in range(8):\n",
        "    pieces = ''\n",
        "    for c in PiecePlacement[rank]:\n",
        "      if c.isnumeric():\n",
        "        pieces += '-'*int(c)\n",
        "      else:\n",
        "        pieces += c\n",
        "    for file in range(8):\n",
        "      if pieces[file] != '-':\n",
        "        encoded_board[rank, file, piece_dict[pieces[file]]] = 1\n",
        "  # plane 12 encodes all the legal moves of white\n",
        "  aux = board.turn\n",
        "  board.turn = chess.WHITE\n",
        "  for move in board.legal_moves:\n",
        "    encoded_board[7-np.unravel_index(move.to_square, (8,8))[0], np.unravel_index(move.to_square, (8,8))[1], 12] = 1\n",
        "  # plane 13 encodes all the legal moves of black\n",
        "  board.turn = chess.BLACK\n",
        "  for move in board.legal_moves:\n",
        "    encoded_board[7-np.unravel_index(move.to_square, (8,8))[0], np.unravel_index(move.to_square, (8,8))[1], 13] = 1\n",
        "  board.turn = aux\n",
        "  # plane 14 encodes the current player to move: white is 1, black is 0\n",
        "  if fen_field[1] == 'w':\n",
        "    encoded_board[:,:,14] = 1\n",
        "  else:\n",
        "    encoded_board[:,:,14] = 0\n",
        "  return encoded_board\n",
        "\n",
        "# does not encode the legal moves\n",
        "def board_encoder13(board):\n",
        "  encoded_board = np.zeros([8,8,13]).astype(np.int8)\n",
        "  fen = board.fen()\n",
        "  fen_field = fen.split(' ')\n",
        "  PiecePlacement = fen_field[0].split('/')\n",
        "  piece_dict = {\"R\":0, \"N\":1, \"B\":2, \"Q\":3, \"K\":4, \"P\":5,\n",
        "                \"r\":6, \"n\":7, \"b\":8, \"q\":9, \"k\":10, \"p\":11\n",
        "                }\n",
        "  for rank in range(8):\n",
        "    pieces = ''\n",
        "    for c in PiecePlacement[rank]:\n",
        "      if c.isnumeric():\n",
        "        pieces += '-'*int(c)\n",
        "      else:\n",
        "        pieces += c\n",
        "    for file in range(8):\n",
        "      if pieces[file] != '-':\n",
        "        encoded_board[rank, file, piece_dict[pieces[file]]] = 1\n",
        "  # plane 12 encodes the current player to move: white is 1, black is 0\n",
        "  if fen_field[1] == 'w':\n",
        "    encoded_board[:,:,12] = 1\n",
        "  else:\n",
        "    encoded_board[:,:,12] = 0\n",
        "  return encoded_board"
      ]
    },
    {
      "cell_type": "code",
      "execution_count": null,
      "metadata": {
        "id": "RthgyXWnJHKx"
      },
      "outputs": [],
      "source": [
        "# model components\n",
        "\n",
        "class InBlock(nn.Module):\n",
        "    def __init__(self, channel_in=15, channel_out=256, kernel_size=3, stride=1):\n",
        "        super(InBlock, self).__init__()\n",
        "        self.channel_in = channel_in\n",
        "        self.conv1 = nn.Conv2d(channel_in, channel_out, kernel_size=kernel_size,\n",
        "                               stride=stride, padding=1)\n",
        "        self.bn1 = nn.BatchNorm2d(channel_out)\n",
        "\n",
        "    def forward(self, s):\n",
        "        if s.dtype != torch.float32:\n",
        "            s = s.float()\n",
        "        s = s.view(-1, self.channel_in, 8, 8)  # batch_size x channels x board_x x board_y\n",
        "        s = self.conv1(s)\n",
        "        s = self.bn1(s)\n",
        "        s = F.relu(s)\n",
        "        return s\n",
        "\n",
        "class ConvBlock(nn.Module):\n",
        "    def __init__(self, channel_in=256, channel_out=256, kernel_size=3, stride=1):\n",
        "        super(ConvBlock, self).__init__()\n",
        "        padding = (kernel_size - 1) // 2\n",
        "        self.conv1 = nn.Conv2d(channel_in, channel_out, kernel_size=kernel_size,\n",
        "                               stride=stride,\n",
        "                     padding=padding, bias=False)\n",
        "        self.bn1 = nn.BatchNorm2d(channel_out)\n",
        "        self.conv2 = nn.Conv2d(channel_out, channel_out, kernel_size=kernel_size,\n",
        "                               stride=stride,\n",
        "                     padding=padding, bias=False)\n",
        "        self.bn2 = nn.BatchNorm2d(channel_out)\n",
        "\n",
        "    def forward(self, x):\n",
        "        out = self.conv1(x)\n",
        "        out = self.bn1(out)\n",
        "        out = F.relu(out)\n",
        "        out = self.conv2(out)\n",
        "        out = self.bn2(out)\n",
        "        out = F.relu(out)\n",
        "        return out\n",
        "\n",
        "class ResBlock(nn.Module):\n",
        "    def __init__(self, channel_in=256, channel_out=256, kernel_size=3, stride=1,\n",
        "                 downsample=None):\n",
        "        super(ResBlock, self).__init__()\n",
        "        padding = (kernel_size - 1) // 2\n",
        "        self.conv1 = nn.Conv2d(channel_in, channel_out, kernel_size=kernel_size,\n",
        "                               stride=stride,\n",
        "                     padding=padding, bias=False)\n",
        "        self.bn1 = nn.BatchNorm2d(channel_out)\n",
        "        self.conv2 = nn.Conv2d(channel_out, channel_out, kernel_size=kernel_size,\n",
        "                               stride=stride,\n",
        "                     padding=padding, bias=False)\n",
        "        self.bn2 = nn.BatchNorm2d(channel_out)\n",
        "        self.downsample = downsample\n",
        "\n",
        "    def forward(self, x):\n",
        "        residual = x\n",
        "        out = self.conv1(x)\n",
        "        out = self.bn1(out)\n",
        "        out = F.relu(out)\n",
        "        out = self.conv2(out)\n",
        "        out = self.bn2(out)\n",
        "        if self.downsample is not None:\n",
        "            residual = self.downsample(x)\n",
        "        out += residual\n",
        "        out = F.relu(out)\n",
        "        return out\n",
        "\n",
        "class OutBlock(nn.Module):\n",
        "    def __init__(self):\n",
        "        super(OutBlock, self).__init__()\n",
        "        self.conv = nn.Conv2d(256, 1, kernel_size=1, stride=1)\n",
        "        self.bn = nn.BatchNorm2d(1)\n",
        "        self.fc1 = nn.Linear(8*8, 256)\n",
        "        self.fc2 = nn.Linear(256, 1)\n",
        "\n",
        "    def forward(self,s):\n",
        "        v = self.conv(s)\n",
        "        v = self.bn(v)\n",
        "        v = F.relu(v)\n",
        "        v = v.view(-1, 8*8)  # batch_size x channels x board_x x board_y\n",
        "        v = self.fc1(v)\n",
        "        v = F.relu(v)\n",
        "        v = self.fc2(v)\n",
        "        v = torch.tanh(v)\n",
        "\n",
        "        return v"
      ]
    },
    {
      "cell_type": "code",
      "execution_count": null,
      "metadata": {
        "id": "-Yj0b-OLJdAn"
      },
      "outputs": [],
      "source": [
        "# 7 layers of residual blocks with legal moves encoded in input\n",
        "class ResNet7_encode15(nn.Module):\n",
        "    def __init__(self):\n",
        "        super(ResNet7_encode15, self).__init__()\n",
        "        self.conv = InBlock(channel_in=15)\n",
        "        self.resblocks = nn.ModuleList([ResBlock() for _ in range(7)])\n",
        "        self.outblock = OutBlock()\n",
        "\n",
        "    def forward(self,s):\n",
        "        s = self.conv(s)\n",
        "        for resblock in self.resblocks:\n",
        "            s = resblock(s)\n",
        "        s = self.outblock(s)\n",
        "        return s\n",
        "\n",
        "# 13 layers of residual blocks with legal moves encoded in input\n",
        "class ResNet13_encode15(nn.Module):\n",
        "    def __init__(self):\n",
        "        super(ResNet13_encode15, self).__init__()\n",
        "        self.conv = InBlock(channel_in=15)\n",
        "        self.resblocks = nn.ModuleList([ResBlock() for _ in range(13)])\n",
        "        self.outblock = OutBlock()\n",
        "\n",
        "    def forward(self,s):\n",
        "        s = self.conv(s)\n",
        "        for resblock in self.resblocks:\n",
        "            s = resblock(s)\n",
        "        s = self.outblock(s)\n",
        "        return s\n",
        "\n",
        "# 7 layers of convolutional blocks with legal moves encoded in input\n",
        "class PlainNet7_encode15(nn.Module):\n",
        "    def __init__(self):\n",
        "        super(PlainNet7_encode15, self).__init__()\n",
        "        self.conv = InBlock(channel_in=15)\n",
        "        self.convblocks = nn.ModuleList([ConvBlock() for _ in range(7)])\n",
        "        self.outblock = OutBlock()\n",
        "\n",
        "    def forward(self,s):\n",
        "        s = self.conv(s)\n",
        "        for convblock in self.convblocks:\n",
        "            s = convblock(s)\n",
        "        s = self.outblock(s)\n",
        "        return s\n",
        "\n",
        "# 13 layers of convolutional blocks with legal moves encoded in input\n",
        "class PlainNet13_encode15(nn.Module):\n",
        "    def __init__(self):\n",
        "        super(PlainNet13_encode15, self).__init__()\n",
        "        self.conv = InBlock(channel_in=15)\n",
        "        self.convblocks = nn.ModuleList([ConvBlock() for _ in range(13)])\n",
        "        self.outblock = OutBlock()\n",
        "\n",
        "    def forward(self,s):\n",
        "        s = self.conv(s)\n",
        "        for convblock in self.convblocks:\n",
        "            s = convblock(s)\n",
        "        s = self.outblock(s)\n",
        "        return s"
      ]
    },
    {
      "cell_type": "code",
      "execution_count": null,
      "metadata": {
        "id": "lKt4_M-lLK7q"
      },
      "outputs": [],
      "source": [
        "# 7 layers of residual blocks with legal moves NOT encoded in input\n",
        "class ResNet7_encode13(nn.Module):\n",
        "    def __init__(self):\n",
        "        super(ResNet7_encode13, self).__init__()\n",
        "        self.conv = InBlock(channel_in=13)\n",
        "        self.resblocks = nn.ModuleList([ResBlock() for _ in range(7)])\n",
        "        self.outblock = OutBlock()\n",
        "\n",
        "    def forward(self,s):\n",
        "        s = self.conv(s)\n",
        "        for resblock in self.resblocks:\n",
        "            s = resblock(s)\n",
        "        s = self.outblock(s)\n",
        "        return s\n",
        "\n",
        "# 13 layers of residual blocks with legal moves NOT encoded in input\n",
        "class ResNet13_encode13(nn.Module):\n",
        "    def __init__(self):\n",
        "        super(ResNet13_encode13, self).__init__()\n",
        "        self.conv = InBlock(channel_in=13)\n",
        "        self.resblocks = nn.ModuleList([ResBlock() for _ in range(13)])\n",
        "        self.outblock = OutBlock()\n",
        "\n",
        "    def forward(self,s):\n",
        "        s = self.conv(s)\n",
        "        for resblock in self.resblocks:\n",
        "            s = resblock(s)\n",
        "        s = self.outblock(s)\n",
        "        return s\n",
        "\n",
        "# 1 layer of convolutional blocks with legal moves NOT encoded in input\n",
        "class PlainNet1_encode13(nn.Module):\n",
        "    def __init__(self):\n",
        "        super(PlainNet1_encode13, self).__init__()\n",
        "        self.conv = InBlock(channel_in=13)\n",
        "        self.convblocks = nn.ModuleList([ConvBlock() for _ in range(1)])\n",
        "        self.outblock = OutBlock()\n",
        "\n",
        "    def forward(self,s):\n",
        "        s = self.conv(s)\n",
        "        for convblock in self.convblocks:\n",
        "            s = convblock(s)\n",
        "        s = self.outblock(s)\n",
        "        return s\n",
        "\n",
        "# 7 layers of convolutional blocks with legal moves NOT encoded in input\n",
        "class PlainNet7_encode13(nn.Module):\n",
        "    def __init__(self):\n",
        "        super(PlainNet7_encode13, self).__init__()\n",
        "        self.conv = InBlock(channel_in=13)\n",
        "        self.convblocks = nn.ModuleList([ConvBlock() for _ in range(7)])\n",
        "        self.outblock = OutBlock()\n",
        "\n",
        "    def forward(self,s):\n",
        "        s = self.conv(s)\n",
        "        for convblock in self.convblocks:\n",
        "            s = convblock(s)\n",
        "        s = self.outblock(s)\n",
        "        return s\n",
        "\n",
        "# 13 layers of convolutional blocks with legal moves NOT encoded in input\n",
        "class PlainNet13_encode13(nn.Module):\n",
        "    def __init__(self):\n",
        "        super(PlainNet13_encode13, self).__init__()\n",
        "        self.conv = InBlock(channel_in=13)\n",
        "        self.convblocks = nn.ModuleList([ConvBlock() for _ in range(13)])\n",
        "        self.outblock = OutBlock()\n",
        "\n",
        "    def forward(self,s):\n",
        "        s = self.conv(s)\n",
        "        for convblock in self.convblocks:\n",
        "            s = convblock(s)\n",
        "        s = self.outblock(s)\n",
        "        return s"
      ]
    },
    {
      "cell_type": "code",
      "execution_count": null,
      "metadata": {
        "id": "iN_cH7j9LbBQ"
      },
      "outputs": [],
      "source": [
        "def minimax_eval(board, model, move_encoded=True):\n",
        "  if move_encoded:\n",
        "    board_rep = board_encoder15(board)\n",
        "  else:\n",
        "    board_rep = board_encoder13(board)\n",
        "  board_tensor = torch.tensor(board_rep.transpose(2,0,1), dtype=torch.float32)\n",
        "  with torch.no_grad():\n",
        "    output = model(board_tensor.unsqueeze(0))\n",
        "  return output.item()\n",
        "\n",
        "def minimax(board, model, depth, alpha, beta, move_encoded=True, maximizing=False):\n",
        "  if depth == 0 or board.is_game_over():\n",
        "    return minimax_eval(board, model, move_encoded)\n",
        "  if maximizing: # maximizing the value\n",
        "    max_val = -np.inf\n",
        "    for move in board.legal_moves:\n",
        "      board.push(move)\n",
        "      val = minimax(board, model, depth - 1, alpha, beta, move_encoded, maximizing=False)\n",
        "      board.pop()\n",
        "      max_val = max(max_val, val)\n",
        "      alpha = max(alpha, val)\n",
        "      if beta <= alpha:\n",
        "        break\n",
        "    return max_val\n",
        "  else:\n",
        "    min_val = np.inf\n",
        "    for move in board.legal_moves:\n",
        "      board.push(move)\n",
        "      val = minimax(board, model, depth - 1, alpha, beta, move_encoded, maximizing=True)\n",
        "      board.pop()\n",
        "      min_val = min(min_val, val)\n",
        "      beta = min(beta, val)\n",
        "      if beta <= alpha:\n",
        "        break\n",
        "    return min_val\n",
        "\n",
        "def get_ai_move(board, model, player, move_encoded, depth):\n",
        "  selected_move = None\n",
        "  max_val = -np.inf\n",
        "  min_val = np.inf\n",
        "\n",
        "  for move in board.legal_moves:\n",
        "    board.push(move)\n",
        "    if player == chess.WHITE:\n",
        "      val = minimax(board, model, depth - 1, -np.inf, np.inf, move_encoded, False)\n",
        "      if val > max_val:\n",
        "        max_val = val\n",
        "        selected_move = move\n",
        "    else:\n",
        "      val = minimax(board, model, depth - 1, -np.inf, np.inf, move_encoded, True)\n",
        "      if val < min_val:\n",
        "        min_val = val\n",
        "        selected_move = move\n",
        "    board.pop()\n",
        "\n",
        "\n",
        "  return selected_move"
      ]
    },
    {
      "cell_type": "markdown",
      "metadata": {
        "id": "lqW-MQZY507o"
      },
      "source": [
        "ResNet7_v1 vs. ResNet7_v1\n",
        "\n",
        "ResNet7_v1 trained on 300k input, no validation, 50 epochs.\n",
        "\n",
        "ResNet7_v2 trained on 1M input, 100k validation, early stopping on validation loss, stopped at 20 epochs."
      ]
    },
    {
      "cell_type": "code",
      "execution_count": null,
      "metadata": {
        "colab": {
          "base_uri": "https://localhost:8080/"
        },
        "id": "TQeGD76eD9HW",
        "outputId": "e92ebdfd-8ee5-4222-9219-704a0721db53"
      },
      "outputs": [
        {
          "data": {
            "text/plain": [
              "ResNet7_encode15(\n",
              "  (conv): InBlock(\n",
              "    (conv1): Conv2d(15, 256, kernel_size=(3, 3), stride=(1, 1), padding=(1, 1))\n",
              "    (bn1): BatchNorm2d(256, eps=1e-05, momentum=0.1, affine=True, track_running_stats=True)\n",
              "  )\n",
              "  (resblocks): ModuleList(\n",
              "    (0-6): 7 x ResBlock(\n",
              "      (conv1): Conv2d(256, 256, kernel_size=(3, 3), stride=(1, 1), padding=(1, 1), bias=False)\n",
              "      (bn1): BatchNorm2d(256, eps=1e-05, momentum=0.1, affine=True, track_running_stats=True)\n",
              "      (conv2): Conv2d(256, 256, kernel_size=(3, 3), stride=(1, 1), padding=(1, 1), bias=False)\n",
              "      (bn2): BatchNorm2d(256, eps=1e-05, momentum=0.1, affine=True, track_running_stats=True)\n",
              "    )\n",
              "  )\n",
              "  (outblock): OutBlock(\n",
              "    (conv): Conv2d(256, 1, kernel_size=(1, 1), stride=(1, 1))\n",
              "    (bn): BatchNorm2d(1, eps=1e-05, momentum=0.1, affine=True, track_running_stats=True)\n",
              "    (fc1): Linear(in_features=64, out_features=256, bias=True)\n",
              "    (fc2): Linear(in_features=256, out_features=1, bias=True)\n",
              "  )\n",
              ")"
            ]
          },
          "execution_count": 12,
          "metadata": {},
          "output_type": "execute_result"
        }
      ],
      "source": [
        "model_white = ResNet7_encode13()\n",
        "model_black = ResNet7_encode15()\n",
        "cuda = torch.cuda.is_available()\n",
        "if cuda:\n",
        "  model_white.cuda()\n",
        "  checkpoint = torch.load(\"/content/drive/MyDrive/ResNet7_Mar26/ResNet7_Mar27_training_checkpoint_epoch20.ckpt\")\n",
        "  model_white.load_state_dict(checkpoint['state_dict'])\n",
        "  model_black.cuda()\n",
        "  checkpoint = torch.load(\"/content/drive/MyDrive/ResNet7_Mar20/ResNet7_training_checkpoint_epoch50.ckpt\")\n",
        "  model_black.load_state_dict(checkpoint['state_dict'])\n",
        "else:\n",
        "  checkpoint = torch.load(\"/content/drive/MyDrive/ResNet7_Mar26/ResNet7_Mar27_training_checkpoint_epoch20.ckpt\", map_location=torch.device('cpu'))\n",
        "  model_white.load_state_dict(checkpoint['state_dict'])\n",
        "  checkpoint = torch.load(\"/content/drive/MyDrive/ResNet7_Mar20/ResNet7_training_checkpoint_epoch50.ckpt\", map_location=torch.device('cpu'))\n",
        "  model_black.load_state_dict(checkpoint['state_dict'])\n",
        "model_white.eval()\n",
        "model_black.eval()"
      ]
    },
    {
      "cell_type": "code",
      "execution_count": null,
      "metadata": {
        "colab": {
          "base_uri": "https://localhost:8080/"
        },
        "id": "6-G72wvgECLD",
        "outputId": "e9565dee-6628-424b-fef8-584f4dd03aa6"
      },
      "outputs": [
        {
          "name": "stdout",
          "output_type": "stream",
          "text": [
            "Game saved to /content/drive/MyDrive/GamePlay/ResNet7_Mar26_vs_ResNet7_Mar20/game1.pgn\n",
            "Game saved to /content/drive/MyDrive/GamePlay/ResNet7_Mar26_vs_ResNet7_Mar20/game2.pgn\n",
            "Game saved to /content/drive/MyDrive/GamePlay/ResNet7_Mar26_vs_ResNet7_Mar20/game3.pgn\n",
            "Game saved to /content/drive/MyDrive/GamePlay/ResNet7_Mar26_vs_ResNet7_Mar20/game4.pgn\n",
            "Game saved to /content/drive/MyDrive/GamePlay/ResNet7_Mar26_vs_ResNet7_Mar20/game5.pgn\n",
            "Game saved to /content/drive/MyDrive/GamePlay/ResNet7_Mar26_vs_ResNet7_Mar20/game6.pgn\n",
            "Game saved to /content/drive/MyDrive/GamePlay/ResNet7_Mar26_vs_ResNet7_Mar20/game7.pgn\n",
            "Game saved to /content/drive/MyDrive/GamePlay/ResNet7_Mar26_vs_ResNet7_Mar20/game8.pgn\n",
            "Game saved to /content/drive/MyDrive/GamePlay/ResNet7_Mar26_vs_ResNet7_Mar20/game9.pgn\n",
            "Game saved to /content/drive/MyDrive/GamePlay/ResNet7_Mar26_vs_ResNet7_Mar20/game10.pgn\n",
            "Game saved to /content/drive/MyDrive/GamePlay/ResNet7_Mar26_vs_ResNet7_Mar20/game11.pgn\n",
            "Game saved to /content/drive/MyDrive/GamePlay/ResNet7_Mar26_vs_ResNet7_Mar20/game12.pgn\n",
            "Game saved to /content/drive/MyDrive/GamePlay/ResNet7_Mar26_vs_ResNet7_Mar20/game13.pgn\n",
            "Game saved to /content/drive/MyDrive/GamePlay/ResNet7_Mar26_vs_ResNet7_Mar20/game14.pgn\n",
            "Game saved to /content/drive/MyDrive/GamePlay/ResNet7_Mar26_vs_ResNet7_Mar20/game15.pgn\n"
          ]
        }
      ],
      "source": [
        "# play 15 games\n",
        "\n",
        "for i in range(15):\n",
        "  # Create a new game\n",
        "  game = chess.pgn.Game()\n",
        "  game.headers[\"Event\"] = \"Game Play\"\n",
        "  game.headers[\"Site\"] = \"Google Colab\"\n",
        "  game.headers[\"Date\"] = datetime.datetime.now().strftime(\"%Y.%m.%d %H:%M:%S\")\n",
        "  game.headers[\"Round\"] = str(i+1)\n",
        "  game.headers[\"White\"] = \"ResNet7_Mar26\"\n",
        "  game.headers[\"Black\"] = \"ResNet7_Mar20\"\n",
        "  game_node = game\n",
        "  pgn_file = \"/content/drive/MyDrive/GamePlay/ResNet7_Mar26_vs_ResNet7_Mar20/game{}.pgn\".format(i+1)\n",
        "\n",
        "  board = chess.Board()\n",
        "  for _ in range(10):\n",
        "    all_moves = list(board.legal_moves)\n",
        "    move = random.choice(all_moves)\n",
        "    board.push(move)\n",
        "    game_node = game_node.add_variation(move)\n",
        "\n",
        "  # with chess.engine.SimpleEngine.popen_uci(\"/usr/games/stockfish\") as sf:\n",
        "  while True:\n",
        "    move = get_ai_move(board, model_white, chess.WHITE, move_encoded=False, depth=2)\n",
        "    # move = sf.analyse(board, chess.engine.Limit(time=1))['pv'][0]\n",
        "    board.push(move)\n",
        "    game_node = game_node.add_variation(move)\n",
        "    # print('\\nWhite plays...')\n",
        "    # display(SVG(chess.svg.board(board=board, size=150)))  # Display board image\n",
        "\n",
        "    # print(board)\n",
        "    if board.is_game_over():\n",
        "      game.headers[\"Result\"] = board.result()\n",
        "      with open(pgn_file, \"w\") as f:\n",
        "        exporter = chess.pgn.FileExporter(f)\n",
        "        game.accept(exporter)\n",
        "      print(\"Game saved to\", pgn_file)\n",
        "      break\n",
        "\n",
        "    move = get_ai_move(board, model_black, chess.BLACK, move_encoded=True, depth=2)\n",
        "    # move = sf.analyse(board, chess.engine.Limit(time=1))['pv'][0]\n",
        "    board.push(move)\n",
        "    game_node = game_node.add_variation(move)\n",
        "    # print('\\nBlack plays...')\n",
        "    # display(SVG(chess.svg.board(board=board, size=150)))  # Display board image\n",
        "\n",
        "    # print(board)\n",
        "    if board.is_game_over():\n",
        "      game.headers[\"Result\"] = board.result()\n",
        "      with open(pgn_file, \"w\") as f:\n",
        "        exporter = chess.pgn.FileExporter(f)\n",
        "        game.accept(exporter)\n",
        "      print(\"Game saved to\", pgn_file)\n",
        "      break"
      ]
    },
    {
      "cell_type": "code",
      "execution_count": null,
      "metadata": {
        "colab": {
          "base_uri": "https://localhost:8080/"
        },
        "id": "qUq0kbkH4x8v",
        "outputId": "3e6cafc2-da60-4989-c41e-cc0b777fac17"
      },
      "outputs": [
        {
          "name": "stdout",
          "output_type": "stream",
          "text": [
            "1/2-1/2\n",
            "1/2-1/2\n",
            "1/2-1/2\n",
            "1/2-1/2\n",
            "1/2-1/2\n",
            "0-1\n",
            "1/2-1/2\n",
            "1/2-1/2\n",
            "1/2-1/2\n",
            "0-1\n",
            "1/2-1/2\n",
            "1/2-1/2\n",
            "1/2-1/2\n",
            "1/2-1/2\n",
            "1/2-1/2\n"
          ]
        }
      ],
      "source": [
        "for i in range(15):\n",
        "  game = chess.pgn.read_game(open(\"/content/drive/MyDrive/GamePlay/ResNet7_Mar26_vs_ResNet7_Mar20/game{}.pgn\".format(i+1)))\n",
        "  print(game.headers[\"Result\"])"
      ]
    },
    {
      "cell_type": "markdown",
      "source": [
        "# **ResNet13 (white) vs. ResNet7 (black)**"
      ],
      "metadata": {
        "id": "UePz5dubNH4m"
      }
    },
    {
      "cell_type": "code",
      "execution_count": null,
      "metadata": {
        "colab": {
          "base_uri": "https://localhost:8080/"
        },
        "id": "MC_sz0qiAd9C",
        "outputId": "e5f5606b-1133-4ab1-9490-8efc85fe9fc7"
      },
      "outputs": [
        {
          "data": {
            "text/plain": [
              "ResNet7_encode13(\n",
              "  (conv): InBlock(\n",
              "    (conv1): Conv2d(13, 256, kernel_size=(3, 3), stride=(1, 1), padding=(1, 1))\n",
              "    (bn1): BatchNorm2d(256, eps=1e-05, momentum=0.1, affine=True, track_running_stats=True)\n",
              "  )\n",
              "  (resblocks): ModuleList(\n",
              "    (0-6): 7 x ResBlock(\n",
              "      (conv1): Conv2d(256, 256, kernel_size=(3, 3), stride=(1, 1), padding=(1, 1), bias=False)\n",
              "      (bn1): BatchNorm2d(256, eps=1e-05, momentum=0.1, affine=True, track_running_stats=True)\n",
              "      (conv2): Conv2d(256, 256, kernel_size=(3, 3), stride=(1, 1), padding=(1, 1), bias=False)\n",
              "      (bn2): BatchNorm2d(256, eps=1e-05, momentum=0.1, affine=True, track_running_stats=True)\n",
              "    )\n",
              "  )\n",
              "  (outblock): OutBlock(\n",
              "    (conv): Conv2d(256, 1, kernel_size=(1, 1), stride=(1, 1))\n",
              "    (bn): BatchNorm2d(1, eps=1e-05, momentum=0.1, affine=True, track_running_stats=True)\n",
              "    (fc1): Linear(in_features=64, out_features=256, bias=True)\n",
              "    (fc2): Linear(in_features=256, out_features=1, bias=True)\n",
              "  )\n",
              ")"
            ]
          },
          "execution_count": 10,
          "metadata": {},
          "output_type": "execute_result"
        }
      ],
      "source": [
        "model_white = ResNet13_encode13()\n",
        "model_black = ResNet7_encode13()\n",
        "cuda = torch.cuda.is_available()\n",
        "if cuda:\n",
        "  model_white.cuda()\n",
        "  checkpoint = torch.load(\"/content/drive/MyDrive/ResNet13_Mar28/ResNet13_Mar28_training_checkpoint_epoch19.ckpt\")\n",
        "  model_white.load_state_dict(checkpoint['state_dict'])\n",
        "  model_black.cuda()\n",
        "  checkpoint = torch.load(\"/content/drive/MyDrive/ResNet7_Mar26/ResNet7_Mar27_training_checkpoint_epoch20.ckpt\")\n",
        "  model_black.load_state_dict(checkpoint['state_dict'])\n",
        "else:\n",
        "  checkpoint = torch.load(\"/content/drive/MyDrive/ResNet13_Mar28/ResNet13_Mar28_training_checkpoint_epoch19.ckpt\", map_location=torch.device('cpu'))\n",
        "  model_white.load_state_dict(checkpoint['state_dict'])\n",
        "  checkpoint = torch.load(\"/content/drive/MyDrive/ResNet7_Mar26/ResNet7_Mar27_training_checkpoint_epoch20.ckpt\", map_location=torch.device('cpu'))\n",
        "  model_black.load_state_dict(checkpoint['state_dict'])\n",
        "model_white.eval()\n",
        "model_black.eval()"
      ]
    },
    {
      "cell_type": "code",
      "execution_count": null,
      "metadata": {
        "colab": {
          "base_uri": "https://localhost:8080/"
        },
        "id": "qwqmZuifBFtu",
        "outputId": "0127590e-bf76-4ea1-b89f-74690138145a"
      },
      "outputs": [
        {
          "name": "stdout",
          "output_type": "stream",
          "text": [
            "Game saved to /content/drive/MyDrive/GamePlay/ResNet13_Mar28_vs_ResNet7_Mar26/game1.pgn\n",
            "Game saved to /content/drive/MyDrive/GamePlay/ResNet13_Mar28_vs_ResNet7_Mar26/game2.pgn\n",
            "Game saved to /content/drive/MyDrive/GamePlay/ResNet13_Mar28_vs_ResNet7_Mar26/game3.pgn\n",
            "Game saved to /content/drive/MyDrive/GamePlay/ResNet13_Mar28_vs_ResNet7_Mar26/game4.pgn\n",
            "Game saved to /content/drive/MyDrive/GamePlay/ResNet13_Mar28_vs_ResNet7_Mar26/game5.pgn\n",
            "Game saved to /content/drive/MyDrive/GamePlay/ResNet13_Mar28_vs_ResNet7_Mar26/game6.pgn\n",
            "Game saved to /content/drive/MyDrive/GamePlay/ResNet13_Mar28_vs_ResNet7_Mar26/game7.pgn\n",
            "Game saved to /content/drive/MyDrive/GamePlay/ResNet13_Mar28_vs_ResNet7_Mar26/game8.pgn\n",
            "Game saved to /content/drive/MyDrive/GamePlay/ResNet13_Mar28_vs_ResNet7_Mar26/game9.pgn\n",
            "Game saved to /content/drive/MyDrive/GamePlay/ResNet13_Mar28_vs_ResNet7_Mar26/game10.pgn\n",
            "Game saved to /content/drive/MyDrive/GamePlay/ResNet13_Mar28_vs_ResNet7_Mar26/game11.pgn\n",
            "Game saved to /content/drive/MyDrive/GamePlay/ResNet13_Mar28_vs_ResNet7_Mar26/game12.pgn\n",
            "Game saved to /content/drive/MyDrive/GamePlay/ResNet13_Mar28_vs_ResNet7_Mar26/game13.pgn\n",
            "Game saved to /content/drive/MyDrive/GamePlay/ResNet13_Mar28_vs_ResNet7_Mar26/game14.pgn\n",
            "Game saved to /content/drive/MyDrive/GamePlay/ResNet13_Mar28_vs_ResNet7_Mar26/game15.pgn\n"
          ]
        }
      ],
      "source": [
        "# play 15 games\n",
        "\n",
        "for i in range(15):\n",
        "  # Create a new game\n",
        "  game = chess.pgn.Game()\n",
        "  game.headers[\"Event\"] = \"Game Play\"\n",
        "  game.headers[\"Site\"] = \"Google Colab\"\n",
        "  game.headers[\"Date\"] = datetime.datetime.now().strftime(\"%Y.%m.%d %H:%M:%S\")\n",
        "  game.headers[\"Round\"] = str(i+1)\n",
        "  game.headers[\"White\"] = \"ResNet13_Mar28\"\n",
        "  game.headers[\"Black\"] = \"ResNet7_Mar27\"\n",
        "  game_node = game\n",
        "  pgn_file = \"/content/drive/MyDrive/GamePlay/ResNet13_Mar28_vs_ResNet7_Mar26/game{}.pgn\".format(i+1)\n",
        "\n",
        "  board = chess.Board()\n",
        "  for _ in range(10):\n",
        "    all_moves = list(board.legal_moves)\n",
        "    move = random.choice(all_moves)\n",
        "    board.push(move)\n",
        "    game_node = game_node.add_variation(move)\n",
        "\n",
        "  # with chess.engine.SimpleEngine.popen_uci(\"/usr/games/stockfish\") as sf:\n",
        "  while True:\n",
        "    move = get_ai_move(board, model_white, chess.WHITE, move_encoded=False, depth=2)\n",
        "    # move = sf.analyse(board, chess.engine.Limit(time=1))['pv'][0]\n",
        "    board.push(move)\n",
        "    game_node = game_node.add_variation(move)\n",
        "    # print('\\nWhite plays...')\n",
        "    # display(SVG(chess.svg.board(board=board, size=150)))  # Display board image\n",
        "\n",
        "    # print(board)\n",
        "    if board.is_game_over():\n",
        "      game.headers[\"Result\"] = board.result()\n",
        "      with open(pgn_file, \"w\") as f:\n",
        "        exporter = chess.pgn.FileExporter(f)\n",
        "        game.accept(exporter)\n",
        "      print(\"Game saved to\", pgn_file)\n",
        "      break\n",
        "\n",
        "    move = get_ai_move(board, model_black, chess.BLACK, move_encoded=False, depth=2)\n",
        "    # move = sf.analyse(board, chess.engine.Limit(time=1))['pv'][0]\n",
        "    board.push(move)\n",
        "    game_node = game_node.add_variation(move)\n",
        "    # print('\\nBlack plays...')\n",
        "    # display(SVG(chess.svg.board(board=board, size=150)))  # Display board image\n",
        "\n",
        "    # print(board)\n",
        "    if board.is_game_over():\n",
        "      game.headers[\"Result\"] = board.result()\n",
        "      with open(pgn_file, \"w\") as f:\n",
        "        exporter = chess.pgn.FileExporter(f)\n",
        "        game.accept(exporter)\n",
        "      print(\"Game saved to\", pgn_file)\n",
        "      break"
      ]
    },
    {
      "cell_type": "code",
      "execution_count": null,
      "metadata": {
        "colab": {
          "base_uri": "https://localhost:8080/"
        },
        "id": "n_NjOSFzX8N6",
        "outputId": "5c9b5bf9-a59b-4897-e697-9030373d95ba"
      },
      "outputs": [
        {
          "name": "stdout",
          "output_type": "stream",
          "text": [
            "1-0\n",
            "1/2-1/2\n",
            "1/2-1/2\n",
            "1/2-1/2\n",
            "1/2-1/2\n",
            "1/2-1/2\n",
            "1/2-1/2\n",
            "1/2-1/2\n",
            "1-0\n",
            "1/2-1/2\n",
            "1/2-1/2\n",
            "1/2-1/2\n",
            "1/2-1/2\n",
            "1-0\n",
            "1-0\n"
          ]
        }
      ],
      "source": [
        "for i in range(15):\n",
        "  game = chess.pgn.read_game(open(\"/content/drive/MyDrive/GamePlay/ResNet13_Mar28_vs_ResNet7_Mar26/game{}.pgn\".format(i+1)))\n",
        "  print(game.headers[\"Result\"])"
      ]
    },
    {
      "cell_type": "markdown",
      "source": [
        "# **ResNet7 (white) vs. ResNet13 (black)**"
      ],
      "metadata": {
        "id": "IvCfpKi1NSnD"
      }
    },
    {
      "cell_type": "code",
      "execution_count": null,
      "metadata": {
        "colab": {
          "base_uri": "https://localhost:8080/"
        },
        "id": "ercAcWYwYLEc",
        "outputId": "548fe7f7-b72e-47da-a5d9-40c2bd84bc2d"
      },
      "outputs": [
        {
          "data": {
            "text/plain": [
              "ResNet13_encode13(\n",
              "  (conv): InBlock(\n",
              "    (conv1): Conv2d(13, 256, kernel_size=(3, 3), stride=(1, 1), padding=(1, 1))\n",
              "    (bn1): BatchNorm2d(256, eps=1e-05, momentum=0.1, affine=True, track_running_stats=True)\n",
              "  )\n",
              "  (resblocks): ModuleList(\n",
              "    (0-12): 13 x ResBlock(\n",
              "      (conv1): Conv2d(256, 256, kernel_size=(3, 3), stride=(1, 1), padding=(1, 1), bias=False)\n",
              "      (bn1): BatchNorm2d(256, eps=1e-05, momentum=0.1, affine=True, track_running_stats=True)\n",
              "      (conv2): Conv2d(256, 256, kernel_size=(3, 3), stride=(1, 1), padding=(1, 1), bias=False)\n",
              "      (bn2): BatchNorm2d(256, eps=1e-05, momentum=0.1, affine=True, track_running_stats=True)\n",
              "    )\n",
              "  )\n",
              "  (outblock): OutBlock(\n",
              "    (conv): Conv2d(256, 1, kernel_size=(1, 1), stride=(1, 1))\n",
              "    (bn): BatchNorm2d(1, eps=1e-05, momentum=0.1, affine=True, track_running_stats=True)\n",
              "    (fc1): Linear(in_features=64, out_features=256, bias=True)\n",
              "    (fc2): Linear(in_features=256, out_features=1, bias=True)\n",
              "  )\n",
              ")"
            ]
          },
          "execution_count": 11,
          "metadata": {},
          "output_type": "execute_result"
        }
      ],
      "source": [
        "model_white = ResNet7_encode13()\n",
        "model_black = ResNet13_encode13()\n",
        "cuda = torch.cuda.is_available()\n",
        "if cuda:\n",
        "  model_white.cuda()\n",
        "  checkpoint = torch.load(\"/content/drive/MyDrive/ResNet7_Mar26/ResNet7_Mar27_training_checkpoint_epoch20.ckpt\")\n",
        "  model_white.load_state_dict(checkpoint['state_dict'])\n",
        "  model_black.cuda()\n",
        "  checkpoint = torch.load(\"/content/drive/MyDrive/ResNet13_Mar28/ResNet13_Mar28_training_checkpoint_epoch19.ckpt\")\n",
        "  model_black.load_state_dict(checkpoint['state_dict'])\n",
        "else:\n",
        "  checkpoint = torch.load(\"/content/drive/MyDrive/ResNet7_Mar26/ResNet7_Mar27_training_checkpoint_epoch20.ckpt\", map_location=torch.device('cpu'))\n",
        "  model_white.load_state_dict(checkpoint['state_dict'])\n",
        "  checkpoint = torch.load(\"/content/drive/MyDrive/ResNet13_Mar28/ResNet13_Mar28_training_checkpoint_epoch19.ckpt\", map_location=torch.device('cpu'))\n",
        "  model_black.load_state_dict(checkpoint['state_dict'])\n",
        "model_white.eval()\n",
        "model_black.eval()"
      ]
    },
    {
      "cell_type": "code",
      "execution_count": null,
      "metadata": {
        "colab": {
          "base_uri": "https://localhost:8080/"
        },
        "id": "02tIRyVNYi1L",
        "outputId": "7dba161e-e3f7-4035-9697-4bcf88372dbc"
      },
      "outputs": [
        {
          "name": "stdout",
          "output_type": "stream",
          "text": [
            "Game saved to /content/drive/MyDrive/GamePlay/ResNet7_Mar26_vs_ResNet13_Mar28/game1.pgn\n",
            "Game saved to /content/drive/MyDrive/GamePlay/ResNet7_Mar26_vs_ResNet13_Mar28/game2.pgn\n",
            "Game saved to /content/drive/MyDrive/GamePlay/ResNet7_Mar26_vs_ResNet13_Mar28/game3.pgn\n",
            "Game saved to /content/drive/MyDrive/GamePlay/ResNet7_Mar26_vs_ResNet13_Mar28/game4.pgn\n",
            "Game saved to /content/drive/MyDrive/GamePlay/ResNet7_Mar26_vs_ResNet13_Mar28/game5.pgn\n",
            "Game saved to /content/drive/MyDrive/GamePlay/ResNet7_Mar26_vs_ResNet13_Mar28/game6.pgn\n",
            "Game saved to /content/drive/MyDrive/GamePlay/ResNet7_Mar26_vs_ResNet13_Mar28/game7.pgn\n",
            "Game saved to /content/drive/MyDrive/GamePlay/ResNet7_Mar26_vs_ResNet13_Mar28/game8.pgn\n",
            "Game saved to /content/drive/MyDrive/GamePlay/ResNet7_Mar26_vs_ResNet13_Mar28/game9.pgn\n",
            "Game saved to /content/drive/MyDrive/GamePlay/ResNet7_Mar26_vs_ResNet13_Mar28/game10.pgn\n",
            "Game saved to /content/drive/MyDrive/GamePlay/ResNet7_Mar26_vs_ResNet13_Mar28/game11.pgn\n",
            "Game saved to /content/drive/MyDrive/GamePlay/ResNet7_Mar26_vs_ResNet13_Mar28/game12.pgn\n",
            "Game saved to /content/drive/MyDrive/GamePlay/ResNet7_Mar26_vs_ResNet13_Mar28/game13.pgn\n",
            "Game saved to /content/drive/MyDrive/GamePlay/ResNet7_Mar26_vs_ResNet13_Mar28/game14.pgn\n",
            "Game saved to /content/drive/MyDrive/GamePlay/ResNet7_Mar26_vs_ResNet13_Mar28/game15.pgn\n"
          ]
        }
      ],
      "source": [
        "# play 15 games\n",
        "\n",
        "for i in range(15):\n",
        "  # Create a new game\n",
        "  game = chess.pgn.Game()\n",
        "  game.headers[\"Event\"] = \"Game Play\"\n",
        "  game.headers[\"Site\"] = \"Google Colab\"\n",
        "  game.headers[\"Date\"] = datetime.datetime.now().strftime(\"%Y.%m.%d %H:%M:%S\")\n",
        "  game.headers[\"Round\"] = str(i+1)\n",
        "  game.headers[\"White\"] = \"ResNet7_Mar27\"\n",
        "  game.headers[\"Black\"] = \"ResNet13_Mar28\"\n",
        "  game_node = game\n",
        "  pgn_file = \"/content/drive/MyDrive/GamePlay/ResNet7_Mar26_vs_ResNet13_Mar28/game{}.pgn\".format(i+1)\n",
        "\n",
        "  board = chess.Board()\n",
        "  for _ in range(10):\n",
        "    all_moves = list(board.legal_moves)\n",
        "    move = random.choice(all_moves)\n",
        "    board.push(move)\n",
        "    game_node = game_node.add_variation(move)\n",
        "\n",
        "  # with chess.engine.SimpleEngine.popen_uci(\"/usr/games/stockfish\") as sf:\n",
        "  while True:\n",
        "    move = get_ai_move(board, model_white, chess.WHITE, move_encoded=False, depth=2)\n",
        "    # move = sf.analyse(board, chess.engine.Limit(time=1))['pv'][0]\n",
        "    board.push(move)\n",
        "    game_node = game_node.add_variation(move)\n",
        "    # print('\\nWhite plays...')\n",
        "    # display(SVG(chess.svg.board(board=board, size=150)))  # Display board image\n",
        "\n",
        "    # print(board)\n",
        "    if board.is_game_over():\n",
        "      game.headers[\"Result\"] = board.result()\n",
        "      with open(pgn_file, \"w\") as f:\n",
        "        exporter = chess.pgn.FileExporter(f)\n",
        "        game.accept(exporter)\n",
        "      print(\"Game saved to\", pgn_file)\n",
        "      break\n",
        "\n",
        "    move = get_ai_move(board, model_black, chess.BLACK, move_encoded=False, depth=2)\n",
        "    # move = sf.analyse(board, chess.engine.Limit(time=1))['pv'][0]\n",
        "    board.push(move)\n",
        "    game_node = game_node.add_variation(move)\n",
        "    # print('\\nBlack plays...')\n",
        "    # display(SVG(chess.svg.board(board=board, size=150)))  # Display board image\n",
        "\n",
        "    # print(board)\n",
        "    if board.is_game_over():\n",
        "      game.headers[\"Result\"] = board.result()\n",
        "      with open(pgn_file, \"w\") as f:\n",
        "        exporter = chess.pgn.FileExporter(f)\n",
        "        game.accept(exporter)\n",
        "      print(\"Game saved to\", pgn_file)\n",
        "      break"
      ]
    },
    {
      "cell_type": "code",
      "execution_count": null,
      "metadata": {
        "colab": {
          "base_uri": "https://localhost:8080/"
        },
        "id": "A7LHrpF6NS_Y",
        "outputId": "aff6dd03-1d1d-4be5-e7cf-50248dbc2245"
      },
      "outputs": [
        {
          "name": "stdout",
          "output_type": "stream",
          "text": [
            "1/2-1/2\n",
            "1/2-1/2\n",
            "1/2-1/2\n",
            "1/2-1/2\n",
            "1/2-1/2\n",
            "1/2-1/2\n",
            "1/2-1/2\n",
            "1/2-1/2\n",
            "1/2-1/2\n",
            "1-0\n",
            "1/2-1/2\n",
            "1/2-1/2\n",
            "1-0\n",
            "1/2-1/2\n",
            "1-0\n"
          ]
        }
      ],
      "source": [
        "for i in range(15):\n",
        "  game = chess.pgn.read_game(open(\"/content/drive/MyDrive/GamePlay/ResNet7_Mar26_vs_ResNet13_Mar28/game{}.pgn\".format(i+1)))\n",
        "  print(game.headers[\"Result\"])"
      ]
    },
    {
      "cell_type": "markdown",
      "metadata": {
        "id": "YaHHWKuJRg1w"
      },
      "source": [
        "# **PlainNet1 (white) vs. ResNet7 (black)**"
      ]
    },
    {
      "cell_type": "code",
      "execution_count": null,
      "metadata": {
        "colab": {
          "base_uri": "https://localhost:8080/"
        },
        "id": "72uHvMvjQWds",
        "outputId": "a22e9eb0-f4cd-469a-e299-b5cd588f18a6"
      },
      "outputs": [
        {
          "data": {
            "text/plain": [
              "ResNet7_encode13(\n",
              "  (conv): InBlock(\n",
              "    (conv1): Conv2d(13, 256, kernel_size=(3, 3), stride=(1, 1), padding=(1, 1))\n",
              "    (bn1): BatchNorm2d(256, eps=1e-05, momentum=0.1, affine=True, track_running_stats=True)\n",
              "  )\n",
              "  (resblocks): ModuleList(\n",
              "    (0-6): 7 x ResBlock(\n",
              "      (conv1): Conv2d(256, 256, kernel_size=(3, 3), stride=(1, 1), padding=(1, 1), bias=False)\n",
              "      (bn1): BatchNorm2d(256, eps=1e-05, momentum=0.1, affine=True, track_running_stats=True)\n",
              "      (conv2): Conv2d(256, 256, kernel_size=(3, 3), stride=(1, 1), padding=(1, 1), bias=False)\n",
              "      (bn2): BatchNorm2d(256, eps=1e-05, momentum=0.1, affine=True, track_running_stats=True)\n",
              "    )\n",
              "  )\n",
              "  (outblock): OutBlock(\n",
              "    (conv): Conv2d(256, 1, kernel_size=(1, 1), stride=(1, 1))\n",
              "    (bn): BatchNorm2d(1, eps=1e-05, momentum=0.1, affine=True, track_running_stats=True)\n",
              "    (fc1): Linear(in_features=64, out_features=256, bias=True)\n",
              "    (fc2): Linear(in_features=256, out_features=1, bias=True)\n",
              "  )\n",
              ")"
            ]
          },
          "execution_count": 12,
          "metadata": {},
          "output_type": "execute_result"
        }
      ],
      "source": [
        "model_white = PlainNet1_encode13()\n",
        "model_black = ResNet7_encode13()\n",
        "cuda = torch.cuda.is_available()\n",
        "if cuda:\n",
        "  model_white.cuda()\n",
        "  checkpoint = torch.load(\"/content/drive/MyDrive/PlainNet1_Mar31/PlainNet1_Mar31_training_checkpoint_epoch28.ckpt\")\n",
        "  model_white.load_state_dict(checkpoint['state_dict'])\n",
        "  model_black.cuda()\n",
        "  checkpoint = torch.load(\"/content/drive/MyDrive/ResNet7_Mar26/ResNet7_Mar27_training_checkpoint_epoch20.ckpt\")\n",
        "  model_black.load_state_dict(checkpoint['state_dict'])\n",
        "else:\n",
        "  checkpoint = torch.load(\"/content/drive/MyDrive/PlainNet1_Mar31/PlainNet1_Mar31_training_checkpoint_epoch28.ckpt\", map_location=torch.device('cpu'))\n",
        "  model_white.load_state_dict(checkpoint['state_dict'])\n",
        "  checkpoint = torch.load(\"/content/drive/MyDrive/ResNet7_Mar26/ResNet7_Mar27_training_checkpoint_epoch20.ckpt\", map_location=torch.device('cpu'))\n",
        "  model_black.load_state_dict(checkpoint['state_dict'])\n",
        "model_white.eval()\n",
        "model_black.eval()"
      ]
    },
    {
      "cell_type": "code",
      "execution_count": null,
      "metadata": {
        "id": "of1dwk9zSiJc"
      },
      "outputs": [],
      "source": [
        "# play 15 games\n",
        "\n",
        "for i in range(15):\n",
        "  # Create a new game\n",
        "  game = chess.pgn.Game()\n",
        "  game.headers[\"Event\"] = \"Game Play\"\n",
        "  game.headers[\"Site\"] = \"Google Colab\"\n",
        "  game.headers[\"Date\"] = datetime.datetime.now().strftime(\"%Y.%m.%d %H:%M:%S\")\n",
        "  game.headers[\"Round\"] = str(i+1)\n",
        "  game.headers[\"White\"] = \"PlainNet1_Mar31\"\n",
        "  game.headers[\"Black\"] = \"ResNet7_Mar26\"\n",
        "  game_node = game\n",
        "  pgn_file = \"/content/drive/MyDrive/GamePlay/PlainNet1_Mar31_vs_ResNet7_Mar26/game{}.pgn\".format(i+1)\n",
        "\n",
        "  board = chess.Board()\n",
        "  for _ in range(10):\n",
        "    all_moves = list(board.legal_moves)\n",
        "    move = random.choice(all_moves)\n",
        "    board.push(move)\n",
        "    game_node = game_node.add_variation(move)\n",
        "\n",
        "  # with chess.engine.SimpleEngine.popen_uci(\"/usr/games/stockfish\") as sf:\n",
        "  while True:\n",
        "    move = get_ai_move(board, model_white, chess.WHITE, move_encoded=False, depth=2)\n",
        "    # move = sf.analyse(board, chess.engine.Limit(time=1))['pv'][0]\n",
        "    board.push(move)\n",
        "    game_node = game_node.add_variation(move)\n",
        "    # print('\\nWhite plays...')\n",
        "    # display(SVG(chess.svg.board(board=board, size=150)))  # Display board image\n",
        "\n",
        "    # print(board)\n",
        "    if board.is_game_over():\n",
        "      game.headers[\"Result\"] = board.result()\n",
        "      with open(pgn_file, \"w\") as f:\n",
        "        exporter = chess.pgn.FileExporter(f)\n",
        "        game.accept(exporter)\n",
        "      print(\"Game saved to\", pgn_file)\n",
        "      break\n",
        "\n",
        "    move = get_ai_move(board, model_black, chess.BLACK, move_encoded=False, depth=2)\n",
        "    # move = sf.analyse(board, chess.engine.Limit(time=1))['pv'][0]\n",
        "    board.push(move)\n",
        "    game_node = game_node.add_variation(move)\n",
        "    # print('\\nBlack plays...')\n",
        "    # display(SVG(chess.svg.board(board=board, size=150)))  # Display board image\n",
        "\n",
        "    # print(board)\n",
        "    if board.is_game_over():\n",
        "      game.headers[\"Result\"] = board.result()\n",
        "      with open(pgn_file, \"w\") as f:\n",
        "        exporter = chess.pgn.FileExporter(f)\n",
        "        game.accept(exporter)\n",
        "      print(\"Game saved to\", pgn_file)\n",
        "      break"
      ]
    },
    {
      "cell_type": "code",
      "execution_count": null,
      "metadata": {
        "colab": {
          "base_uri": "https://localhost:8080/"
        },
        "id": "1dfNo_RW7muU",
        "outputId": "081f7a50-99aa-4052-d6bf-9a40e434aa58"
      },
      "outputs": [
        {
          "name": "stdout",
          "output_type": "stream",
          "text": [
            "0-1\n",
            "1/2-1/2\n",
            "1/2-1/2\n",
            "1/2-1/2\n",
            "1/2-1/2\n",
            "1/2-1/2\n",
            "1/2-1/2\n",
            "1/2-1/2\n",
            "1/2-1/2\n",
            "1-0\n",
            "1/2-1/2\n",
            "1/2-1/2\n",
            "1/2-1/2\n",
            "1/2-1/2\n",
            "1/2-1/2\n"
          ]
        }
      ],
      "source": [
        "for i in range(15):\n",
        "  game = chess.pgn.read_game(open(\"/content/drive/MyDrive/GamePlay/PlainNet1_Mar31_vs_ResNet7_Mar26/game{}.pgn\".format(i+1)))\n",
        "  print(game.headers[\"Result\"])"
      ]
    },
    {
      "cell_type": "markdown",
      "metadata": {
        "id": "FoEkMaaISteb"
      },
      "source": [
        "# **ResNet7 (white) vs. PlainNet1 (black)**"
      ]
    },
    {
      "cell_type": "code",
      "execution_count": null,
      "metadata": {
        "colab": {
          "base_uri": "https://localhost:8080/"
        },
        "id": "koeU17qZSOJV",
        "outputId": "f5e65d5b-d3cf-4e55-a97f-29552b95e2de"
      },
      "outputs": [
        {
          "data": {
            "text/plain": [
              "PlainNet1_encode13(\n",
              "  (conv): InBlock(\n",
              "    (conv1): Conv2d(13, 256, kernel_size=(3, 3), stride=(1, 1), padding=(1, 1))\n",
              "    (bn1): BatchNorm2d(256, eps=1e-05, momentum=0.1, affine=True, track_running_stats=True)\n",
              "  )\n",
              "  (convblocks): ModuleList(\n",
              "    (0): ConvBlock(\n",
              "      (conv1): Conv2d(256, 256, kernel_size=(3, 3), stride=(1, 1), padding=(1, 1), bias=False)\n",
              "      (bn1): BatchNorm2d(256, eps=1e-05, momentum=0.1, affine=True, track_running_stats=True)\n",
              "      (conv2): Conv2d(256, 256, kernel_size=(3, 3), stride=(1, 1), padding=(1, 1), bias=False)\n",
              "      (bn2): BatchNorm2d(256, eps=1e-05, momentum=0.1, affine=True, track_running_stats=True)\n",
              "    )\n",
              "  )\n",
              "  (outblock): OutBlock(\n",
              "    (conv): Conv2d(256, 1, kernel_size=(1, 1), stride=(1, 1))\n",
              "    (bn): BatchNorm2d(1, eps=1e-05, momentum=0.1, affine=True, track_running_stats=True)\n",
              "    (fc1): Linear(in_features=64, out_features=256, bias=True)\n",
              "    (fc2): Linear(in_features=256, out_features=1, bias=True)\n",
              "  )\n",
              ")"
            ]
          },
          "execution_count": 15,
          "metadata": {},
          "output_type": "execute_result"
        }
      ],
      "source": [
        "model_white = ResNet7_encode13()\n",
        "model_black = PlainNet1_encode13()\n",
        "cuda = torch.cuda.is_available()\n",
        "if cuda:\n",
        "  model_white.cuda()\n",
        "  checkpoint = torch.load(\"/content/drive/MyDrive/ResNet7_Mar26/ResNet7_Mar27_training_checkpoint_epoch20.ckpt\")\n",
        "  model_white.load_state_dict(checkpoint['state_dict'])\n",
        "  model_black.cuda()\n",
        "  checkpoint = torch.load(\"/content/drive/MyDrive/PlainNet1_Mar31/PlainNet1_Mar31_training_checkpoint_epoch28.ckpt\")\n",
        "  model_black.load_state_dict(checkpoint['state_dict'])\n",
        "else:\n",
        "  checkpoint = torch.load(\"/content/drive/MyDrive/ResNet7_Mar26/ResNet7_Mar27_training_checkpoint_epoch20.ckpt\", map_location=torch.device('cpu'))\n",
        "  model_white.load_state_dict(checkpoint['state_dict'])\n",
        "  checkpoint = torch.load(\"/content/drive/MyDrive/PlainNet1_Mar31/PlainNet1_Mar31_training_checkpoint_epoch28.ckpt\", map_location=torch.device('cpu'))\n",
        "  model_black.load_state_dict(checkpoint['state_dict'])\n",
        "model_white.eval()\n",
        "model_black.eval()"
      ]
    },
    {
      "cell_type": "code",
      "execution_count": null,
      "metadata": {
        "colab": {
          "base_uri": "https://localhost:8080/"
        },
        "id": "NefHs6xpTR4G",
        "outputId": "2fd70dca-4607-41a0-9a82-4878cc73707c"
      },
      "outputs": [
        {
          "name": "stdout",
          "output_type": "stream",
          "text": [
            "Game saved to /content/drive/MyDrive/GamePlay/ResNet7_Mar26_vs_PlainNet1_Mar31/game1.pgn\n",
            "Game saved to /content/drive/MyDrive/GamePlay/ResNet7_Mar26_vs_PlainNet1_Mar31/game2.pgn\n",
            "Game saved to /content/drive/MyDrive/GamePlay/ResNet7_Mar26_vs_PlainNet1_Mar31/game3.pgn\n",
            "Game saved to /content/drive/MyDrive/GamePlay/ResNet7_Mar26_vs_PlainNet1_Mar31/game4.pgn\n",
            "Game saved to /content/drive/MyDrive/GamePlay/ResNet7_Mar26_vs_PlainNet1_Mar31/game5.pgn\n",
            "Game saved to /content/drive/MyDrive/GamePlay/ResNet7_Mar26_vs_PlainNet1_Mar31/game6.pgn\n",
            "Game saved to /content/drive/MyDrive/GamePlay/ResNet7_Mar26_vs_PlainNet1_Mar31/game7.pgn\n",
            "Game saved to /content/drive/MyDrive/GamePlay/ResNet7_Mar26_vs_PlainNet1_Mar31/game8.pgn\n",
            "Game saved to /content/drive/MyDrive/GamePlay/ResNet7_Mar26_vs_PlainNet1_Mar31/game9.pgn\n",
            "Game saved to /content/drive/MyDrive/GamePlay/ResNet7_Mar26_vs_PlainNet1_Mar31/game10.pgn\n",
            "Game saved to /content/drive/MyDrive/GamePlay/ResNet7_Mar26_vs_PlainNet1_Mar31/game11.pgn\n",
            "Game saved to /content/drive/MyDrive/GamePlay/ResNet7_Mar26_vs_PlainNet1_Mar31/game12.pgn\n",
            "Game saved to /content/drive/MyDrive/GamePlay/ResNet7_Mar26_vs_PlainNet1_Mar31/game13.pgn\n",
            "Game saved to /content/drive/MyDrive/GamePlay/ResNet7_Mar26_vs_PlainNet1_Mar31/game14.pgn\n",
            "Game saved to /content/drive/MyDrive/GamePlay/ResNet7_Mar26_vs_PlainNet1_Mar31/game15.pgn\n"
          ]
        }
      ],
      "source": [
        "# play 15 games\n",
        "\n",
        "for i in range(15):\n",
        "  # Create a new game\n",
        "  game = chess.pgn.Game()\n",
        "  game.headers[\"Event\"] = \"Game Play\"\n",
        "  game.headers[\"Site\"] = \"Google Colab\"\n",
        "  game.headers[\"Date\"] = datetime.datetime.now().strftime(\"%Y.%m.%d %H:%M:%S\")\n",
        "  game.headers[\"Round\"] = str(i+1)\n",
        "  game.headers[\"White\"] = \"ResNet7_Mar26\"\n",
        "  game.headers[\"Black\"] = \"PlainNet1_Mar31\"\n",
        "  game_node = game\n",
        "  pgn_file = \"/content/drive/MyDrive/GamePlay/ResNet7_Mar26_vs_PlainNet1_Mar31/game{}.pgn\".format(i+1)\n",
        "\n",
        "  board = chess.Board()\n",
        "  for _ in range(10):\n",
        "    all_moves = list(board.legal_moves)\n",
        "    move = random.choice(all_moves)\n",
        "    board.push(move)\n",
        "    game_node = game_node.add_variation(move)\n",
        "\n",
        "  # with chess.engine.SimpleEngine.popen_uci(\"/usr/games/stockfish\") as sf:\n",
        "  while True:\n",
        "    move = get_ai_move(board, model_white, chess.WHITE, move_encoded=False, depth=2)\n",
        "    # move = sf.analyse(board, chess.engine.Limit(time=1))['pv'][0]\n",
        "    board.push(move)\n",
        "    game_node = game_node.add_variation(move)\n",
        "    # print('\\nWhite plays...')\n",
        "    # display(SVG(chess.svg.board(board=board, size=150)))  # Display board image\n",
        "\n",
        "    # print(board)\n",
        "    if board.is_game_over():\n",
        "      game.headers[\"Result\"] = board.result()\n",
        "      with open(pgn_file, \"w\") as f:\n",
        "        exporter = chess.pgn.FileExporter(f)\n",
        "        game.accept(exporter)\n",
        "      print(\"Game saved to\", pgn_file)\n",
        "      break\n",
        "\n",
        "    move = get_ai_move(board, model_black, chess.BLACK, move_encoded=False, depth=2)\n",
        "    # move = sf.analyse(board, chess.engine.Limit(time=1))['pv'][0]\n",
        "    board.push(move)\n",
        "    game_node = game_node.add_variation(move)\n",
        "    # print('\\nBlack plays...')\n",
        "    # display(SVG(chess.svg.board(board=board, size=150)))  # Display board image\n",
        "\n",
        "    # print(board)\n",
        "    if board.is_game_over():\n",
        "      game.headers[\"Result\"] = board.result()\n",
        "      with open(pgn_file, \"w\") as f:\n",
        "        exporter = chess.pgn.FileExporter(f)\n",
        "        game.accept(exporter)\n",
        "      print(\"Game saved to\", pgn_file)\n",
        "      break"
      ]
    },
    {
      "cell_type": "code",
      "execution_count": null,
      "metadata": {
        "colab": {
          "base_uri": "https://localhost:8080/"
        },
        "id": "i_e_MdVt77hQ",
        "outputId": "0a997ca9-a7f5-428a-8c49-5d4c493ebc99"
      },
      "outputs": [
        {
          "name": "stdout",
          "output_type": "stream",
          "text": [
            "1/2-1/2\n",
            "1/2-1/2\n",
            "1/2-1/2\n",
            "1-0\n",
            "1/2-1/2\n",
            "1/2-1/2\n",
            "1/2-1/2\n",
            "1/2-1/2\n",
            "1/2-1/2\n",
            "1/2-1/2\n",
            "1/2-1/2\n",
            "1/2-1/2\n",
            "1/2-1/2\n",
            "1/2-1/2\n",
            "1/2-1/2\n"
          ]
        }
      ],
      "source": [
        "for i in range(15):\n",
        "  game = chess.pgn.read_game(open(\"/content/drive/MyDrive/GamePlay/ResNet7_Mar26_vs_PlainNet1_Mar31/game{}.pgn\".format(i+1)))\n",
        "  print(game.headers[\"Result\"])"
      ]
    },
    {
      "cell_type": "markdown",
      "metadata": {
        "id": "y-1WUG61TqKv"
      },
      "source": [
        "# **PlainNet1 (white) vs. ResNet13 (black)**"
      ]
    },
    {
      "cell_type": "code",
      "execution_count": null,
      "metadata": {
        "colab": {
          "base_uri": "https://localhost:8080/"
        },
        "id": "yzovOo7TTvIH",
        "outputId": "719ded75-d642-454c-858e-d87b7cc4b9bf"
      },
      "outputs": [
        {
          "data": {
            "text/plain": [
              "ResNet13_encode13(\n",
              "  (conv): InBlock(\n",
              "    (conv1): Conv2d(13, 256, kernel_size=(3, 3), stride=(1, 1), padding=(1, 1))\n",
              "    (bn1): BatchNorm2d(256, eps=1e-05, momentum=0.1, affine=True, track_running_stats=True)\n",
              "  )\n",
              "  (resblocks): ModuleList(\n",
              "    (0-12): 13 x ResBlock(\n",
              "      (conv1): Conv2d(256, 256, kernel_size=(3, 3), stride=(1, 1), padding=(1, 1), bias=False)\n",
              "      (bn1): BatchNorm2d(256, eps=1e-05, momentum=0.1, affine=True, track_running_stats=True)\n",
              "      (conv2): Conv2d(256, 256, kernel_size=(3, 3), stride=(1, 1), padding=(1, 1), bias=False)\n",
              "      (bn2): BatchNorm2d(256, eps=1e-05, momentum=0.1, affine=True, track_running_stats=True)\n",
              "    )\n",
              "  )\n",
              "  (outblock): OutBlock(\n",
              "    (conv): Conv2d(256, 1, kernel_size=(1, 1), stride=(1, 1))\n",
              "    (bn): BatchNorm2d(1, eps=1e-05, momentum=0.1, affine=True, track_running_stats=True)\n",
              "    (fc1): Linear(in_features=64, out_features=256, bias=True)\n",
              "    (fc2): Linear(in_features=256, out_features=1, bias=True)\n",
              "  )\n",
              ")"
            ]
          },
          "execution_count": 17,
          "metadata": {},
          "output_type": "execute_result"
        }
      ],
      "source": [
        "model_white = PlainNet1_encode13()\n",
        "model_black = ResNet13_encode13()\n",
        "cuda = torch.cuda.is_available()\n",
        "if cuda:\n",
        "  model_white.cuda()\n",
        "  checkpoint = torch.load(\"/content/drive/MyDrive/PlainNet1_Mar31/PlainNet1_Mar31_training_checkpoint_epoch28.ckpt\")\n",
        "  model_white.load_state_dict(checkpoint['state_dict'])\n",
        "  model_black.cuda()\n",
        "  checkpoint = torch.load(\"/content/drive/MyDrive/ResNet13_Mar28/ResNet13_Mar28_training_checkpoint_epoch19.ckpt\")\n",
        "  model_black.load_state_dict(checkpoint['state_dict'])\n",
        "else:\n",
        "  checkpoint = torch.load(\"/content/drive/MyDrive/PlainNet1_Mar31/PlainNet1_Mar31_training_checkpoint_epoch28.ckpt\", map_location=torch.device('cpu'))\n",
        "  model_white.load_state_dict(checkpoint['state_dict'])\n",
        "  checkpoint = torch.load(\"/content/drive/MyDrive/ResNet13_Mar28/ResNet13_Mar28_training_checkpoint_epoch19.ckpt\", map_location=torch.device('cpu'))\n",
        "  model_black.load_state_dict(checkpoint['state_dict'])\n",
        "model_white.eval()\n",
        "model_black.eval()"
      ]
    },
    {
      "cell_type": "code",
      "execution_count": null,
      "metadata": {
        "colab": {
          "base_uri": "https://localhost:8080/"
        },
        "id": "9ysa3sTOUCAs",
        "outputId": "1dede0d8-7bfd-4a20-b29d-b3362aa8787c"
      },
      "outputs": [
        {
          "name": "stdout",
          "output_type": "stream",
          "text": [
            "Game saved to /content/drive/MyDrive/GamePlay/PlainNet1_Mar31_vs_ResNet13_Mar28/game1.pgn\n",
            "Game saved to /content/drive/MyDrive/GamePlay/PlainNet1_Mar31_vs_ResNet13_Mar28/game2.pgn\n",
            "Game saved to /content/drive/MyDrive/GamePlay/PlainNet1_Mar31_vs_ResNet13_Mar28/game3.pgn\n",
            "Game saved to /content/drive/MyDrive/GamePlay/PlainNet1_Mar31_vs_ResNet13_Mar28/game4.pgn\n",
            "Game saved to /content/drive/MyDrive/GamePlay/PlainNet1_Mar31_vs_ResNet13_Mar28/game5.pgn\n",
            "Game saved to /content/drive/MyDrive/GamePlay/PlainNet1_Mar31_vs_ResNet13_Mar28/game6.pgn\n",
            "Game saved to /content/drive/MyDrive/GamePlay/PlainNet1_Mar31_vs_ResNet13_Mar28/game7.pgn\n",
            "Game saved to /content/drive/MyDrive/GamePlay/PlainNet1_Mar31_vs_ResNet13_Mar28/game8.pgn\n",
            "Game saved to /content/drive/MyDrive/GamePlay/PlainNet1_Mar31_vs_ResNet13_Mar28/game9.pgn\n",
            "Game saved to /content/drive/MyDrive/GamePlay/PlainNet1_Mar31_vs_ResNet13_Mar28/game10.pgn\n",
            "Game saved to /content/drive/MyDrive/GamePlay/PlainNet1_Mar31_vs_ResNet13_Mar28/game11.pgn\n",
            "Game saved to /content/drive/MyDrive/GamePlay/PlainNet1_Mar31_vs_ResNet13_Mar28/game12.pgn\n",
            "Game saved to /content/drive/MyDrive/GamePlay/PlainNet1_Mar31_vs_ResNet13_Mar28/game13.pgn\n",
            "Game saved to /content/drive/MyDrive/GamePlay/PlainNet1_Mar31_vs_ResNet13_Mar28/game14.pgn\n",
            "Game saved to /content/drive/MyDrive/GamePlay/PlainNet1_Mar31_vs_ResNet13_Mar28/game15.pgn\n"
          ]
        }
      ],
      "source": [
        "# play 15 games\n",
        "\n",
        "for i in range(15):\n",
        "  # Create a new game\n",
        "  game = chess.pgn.Game()\n",
        "  game.headers[\"Event\"] = \"Game Play\"\n",
        "  game.headers[\"Site\"] = \"Google Colab\"\n",
        "  game.headers[\"Date\"] = datetime.datetime.now().strftime(\"%Y.%m.%d %H:%M:%S\")\n",
        "  game.headers[\"Round\"] = str(i+1)\n",
        "  game.headers[\"White\"] = \"PlainNet1_Mar31\"\n",
        "  game.headers[\"Black\"] = \"ResNet13_Mar28\"\n",
        "  game_node = game\n",
        "  pgn_file = \"/content/drive/MyDrive/GamePlay/PlainNet1_Mar31_vs_ResNet13_Mar28/game{}.pgn\".format(i+1)\n",
        "\n",
        "  board = chess.Board()\n",
        "  for _ in range(10):\n",
        "    all_moves = list(board.legal_moves)\n",
        "    move = random.choice(all_moves)\n",
        "    board.push(move)\n",
        "    game_node = game_node.add_variation(move)\n",
        "\n",
        "  # with chess.engine.SimpleEngine.popen_uci(\"/usr/games/stockfish\") as sf:\n",
        "  while True:\n",
        "    move = get_ai_move(board, model_white, chess.WHITE, move_encoded=False, depth=2)\n",
        "    # move = sf.analyse(board, chess.engine.Limit(time=1))['pv'][0]\n",
        "    board.push(move)\n",
        "    game_node = game_node.add_variation(move)\n",
        "    # print('\\nWhite plays...')\n",
        "    # display(SVG(chess.svg.board(board=board, size=150)))  # Display board image\n",
        "\n",
        "    # print(board)\n",
        "    if board.is_game_over():\n",
        "      game.headers[\"Result\"] = board.result()\n",
        "      with open(pgn_file, \"w\") as f:\n",
        "        exporter = chess.pgn.FileExporter(f)\n",
        "        game.accept(exporter)\n",
        "      print(\"Game saved to\", pgn_file)\n",
        "      break\n",
        "\n",
        "    move = get_ai_move(board, model_black, chess.BLACK, move_encoded=False, depth=2)\n",
        "    # move = sf.analyse(board, chess.engine.Limit(time=1))['pv'][0]\n",
        "    board.push(move)\n",
        "    game_node = game_node.add_variation(move)\n",
        "    # print('\\nBlack plays...')\n",
        "    # display(SVG(chess.svg.board(board=board, size=150)))  # Display board image\n",
        "\n",
        "    # print(board)\n",
        "    if board.is_game_over():\n",
        "      game.headers[\"Result\"] = board.result()\n",
        "      with open(pgn_file, \"w\") as f:\n",
        "        exporter = chess.pgn.FileExporter(f)\n",
        "        game.accept(exporter)\n",
        "      print(\"Game saved to\", pgn_file)\n",
        "      break"
      ]
    },
    {
      "cell_type": "code",
      "execution_count": null,
      "metadata": {
        "colab": {
          "base_uri": "https://localhost:8080/"
        },
        "id": "FsDOQYhD8EKx",
        "outputId": "1474954a-0374-4c50-82e7-1e4db6622609"
      },
      "outputs": [
        {
          "name": "stdout",
          "output_type": "stream",
          "text": [
            "1/2-1/2\n",
            "1/2-1/2\n",
            "1/2-1/2\n",
            "1-0\n",
            "1/2-1/2\n",
            "0-1\n",
            "0-1\n",
            "1/2-1/2\n",
            "1/2-1/2\n",
            "1/2-1/2\n",
            "0-1\n",
            "1/2-1/2\n",
            "0-1\n",
            "0-1\n",
            "1/2-1/2\n"
          ]
        }
      ],
      "source": [
        "for i in range(15):\n",
        "  game = chess.pgn.read_game(open(\"/content/drive/MyDrive/GamePlay/PlainNet1_Mar31_vs_ResNet13_Mar28/game{}.pgn\".format(i+1)))\n",
        "  print(game.headers[\"Result\"])"
      ]
    },
    {
      "cell_type": "markdown",
      "metadata": {
        "id": "NtQtF9NjUc3M"
      },
      "source": [
        "# **ResNet13 (white) vs. PlainNet1 (black)**"
      ]
    },
    {
      "cell_type": "code",
      "execution_count": null,
      "metadata": {
        "colab": {
          "base_uri": "https://localhost:8080/"
        },
        "id": "2LsfckpcUeUd",
        "outputId": "620cb3ca-15cc-41c1-cf8e-721d1735c598"
      },
      "outputs": [
        {
          "data": {
            "text/plain": [
              "PlainNet1_encode13(\n",
              "  (conv): InBlock(\n",
              "    (conv1): Conv2d(13, 256, kernel_size=(3, 3), stride=(1, 1), padding=(1, 1))\n",
              "    (bn1): BatchNorm2d(256, eps=1e-05, momentum=0.1, affine=True, track_running_stats=True)\n",
              "  )\n",
              "  (convblocks): ModuleList(\n",
              "    (0): ConvBlock(\n",
              "      (conv1): Conv2d(256, 256, kernel_size=(3, 3), stride=(1, 1), padding=(1, 1), bias=False)\n",
              "      (bn1): BatchNorm2d(256, eps=1e-05, momentum=0.1, affine=True, track_running_stats=True)\n",
              "      (conv2): Conv2d(256, 256, kernel_size=(3, 3), stride=(1, 1), padding=(1, 1), bias=False)\n",
              "      (bn2): BatchNorm2d(256, eps=1e-05, momentum=0.1, affine=True, track_running_stats=True)\n",
              "    )\n",
              "  )\n",
              "  (outblock): OutBlock(\n",
              "    (conv): Conv2d(256, 1, kernel_size=(1, 1), stride=(1, 1))\n",
              "    (bn): BatchNorm2d(1, eps=1e-05, momentum=0.1, affine=True, track_running_stats=True)\n",
              "    (fc1): Linear(in_features=64, out_features=256, bias=True)\n",
              "    (fc2): Linear(in_features=256, out_features=1, bias=True)\n",
              "  )\n",
              ")"
            ]
          },
          "execution_count": 19,
          "metadata": {},
          "output_type": "execute_result"
        }
      ],
      "source": [
        "model_white = ResNet13_encode13()\n",
        "model_black = PlainNet1_encode13()\n",
        "cuda = torch.cuda.is_available()\n",
        "if cuda:\n",
        "  model_white.cuda()\n",
        "  checkpoint = torch.load(\"/content/drive/MyDrive/ResNet13_Mar28/ResNet13_Mar28_training_checkpoint_epoch19.ckpt\")\n",
        "  model_white.load_state_dict(checkpoint['state_dict'])\n",
        "  model_black.cuda()\n",
        "  checkpoint = torch.load(\"/content/drive/MyDrive/PlainNet1_Mar31/PlainNet1_Mar31_training_checkpoint_epoch28.ckpt\")\n",
        "  model_black.load_state_dict(checkpoint['state_dict'])\n",
        "else:\n",
        "  checkpoint = torch.load(\"/content/drive/MyDrive/ResNet13_Mar28/ResNet13_Mar28_training_checkpoint_epoch19.ckpt\", map_location=torch.device('cpu'))\n",
        "  model_white.load_state_dict(checkpoint['state_dict'])\n",
        "  checkpoint = torch.load(\"/content/drive/MyDrive/PlainNet1_Mar31/PlainNet1_Mar31_training_checkpoint_epoch28.ckpt\", map_location=torch.device('cpu'))\n",
        "  model_black.load_state_dict(checkpoint['state_dict'])\n",
        "model_white.eval()\n",
        "model_black.eval()"
      ]
    },
    {
      "cell_type": "code",
      "execution_count": null,
      "metadata": {
        "colab": {
          "base_uri": "https://localhost:8080/"
        },
        "id": "yksKz7BjUwux",
        "outputId": "0e58b77f-e33a-4960-81d2-ee6ed793b640"
      },
      "outputs": [
        {
          "name": "stdout",
          "output_type": "stream",
          "text": [
            "Game saved to /content/drive/MyDrive/GamePlay/ResNet13_Mar28_vs_PlainNet1_Mar31/game7.pgn\n",
            "Game saved to /content/drive/MyDrive/GamePlay/ResNet13_Mar28_vs_PlainNet1_Mar31/game8.pgn\n",
            "Game saved to /content/drive/MyDrive/GamePlay/ResNet13_Mar28_vs_PlainNet1_Mar31/game9.pgn\n",
            "Game saved to /content/drive/MyDrive/GamePlay/ResNet13_Mar28_vs_PlainNet1_Mar31/game10.pgn\n",
            "Game saved to /content/drive/MyDrive/GamePlay/ResNet13_Mar28_vs_PlainNet1_Mar31/game11.pgn\n",
            "Game saved to /content/drive/MyDrive/GamePlay/ResNet13_Mar28_vs_PlainNet1_Mar31/game12.pgn\n",
            "Game saved to /content/drive/MyDrive/GamePlay/ResNet13_Mar28_vs_PlainNet1_Mar31/game13.pgn\n",
            "Game saved to /content/drive/MyDrive/GamePlay/ResNet13_Mar28_vs_PlainNet1_Mar31/game14.pgn\n",
            "Game saved to /content/drive/MyDrive/GamePlay/ResNet13_Mar28_vs_PlainNet1_Mar31/game15.pgn\n"
          ]
        }
      ],
      "source": [
        "# play 15 games\n",
        "\n",
        "for i in range(6,15):\n",
        "  # Create a new game\n",
        "  game = chess.pgn.Game()\n",
        "  game.headers[\"Event\"] = \"Game Play\"\n",
        "  game.headers[\"Site\"] = \"Google Colab\"\n",
        "  game.headers[\"Date\"] = datetime.datetime.now().strftime(\"%Y.%m.%d %H:%M:%S\")\n",
        "  game.headers[\"Round\"] = str(i+1)\n",
        "  game.headers[\"White\"] = \"ResNet13_Mar28\"\n",
        "  game.headers[\"Black\"] = \"PlainNet1_Mar31\"\n",
        "  game_node = game\n",
        "  pgn_file = \"/content/drive/MyDrive/GamePlay/ResNet13_Mar28_vs_PlainNet1_Mar31/game{}.pgn\".format(i+1)\n",
        "\n",
        "  board = chess.Board()\n",
        "  for _ in range(10):\n",
        "    all_moves = list(board.legal_moves)\n",
        "    move = random.choice(all_moves)\n",
        "    board.push(move)\n",
        "    game_node = game_node.add_variation(move)\n",
        "\n",
        "  # with chess.engine.SimpleEngine.popen_uci(\"/usr/games/stockfish\") as sf:\n",
        "  while True:\n",
        "    move = get_ai_move(board, model_white, chess.WHITE, move_encoded=False, depth=2)\n",
        "    # move = sf.analyse(board, chess.engine.Limit(time=1))['pv'][0]\n",
        "    board.push(move)\n",
        "    game_node = game_node.add_variation(move)\n",
        "    # print('\\nWhite plays...')\n",
        "    # display(SVG(chess.svg.board(board=board, size=150)))  # Display board image\n",
        "\n",
        "    # print(board)\n",
        "    if board.is_game_over():\n",
        "      game.headers[\"Result\"] = board.result()\n",
        "      with open(pgn_file, \"w\") as f:\n",
        "        exporter = chess.pgn.FileExporter(f)\n",
        "        game.accept(exporter)\n",
        "      print(\"Game saved to\", pgn_file)\n",
        "      break\n",
        "\n",
        "    move = get_ai_move(board, model_black, chess.BLACK, move_encoded=False, depth=2)\n",
        "    # move = sf.analyse(board, chess.engine.Limit(time=1))['pv'][0]\n",
        "    board.push(move)\n",
        "    game_node = game_node.add_variation(move)\n",
        "    # print('\\nBlack plays...')\n",
        "    # display(SVG(chess.svg.board(board=board, size=150)))  # Display board image\n",
        "\n",
        "    # print(board)\n",
        "    if board.is_game_over():\n",
        "      game.headers[\"Result\"] = board.result()\n",
        "      with open(pgn_file, \"w\") as f:\n",
        "        exporter = chess.pgn.FileExporter(f)\n",
        "        game.accept(exporter)\n",
        "      print(\"Game saved to\", pgn_file)\n",
        "      break"
      ]
    },
    {
      "cell_type": "code",
      "execution_count": null,
      "metadata": {
        "colab": {
          "base_uri": "https://localhost:8080/"
        },
        "id": "jYR9UGJS8VES",
        "outputId": "f5114d94-7919-4bb2-a379-e97b46c874ea"
      },
      "outputs": [
        {
          "name": "stdout",
          "output_type": "stream",
          "text": [
            "1/2-1/2\n",
            "1/2-1/2\n",
            "1/2-1/2\n",
            "1/2-1/2\n",
            "1/2-1/2\n",
            "1/2-1/2\n",
            "1/2-1/2\n",
            "1/2-1/2\n",
            "1-0\n",
            "1/2-1/2\n",
            "1/2-1/2\n",
            "1/2-1/2\n",
            "1/2-1/2\n",
            "1/2-1/2\n",
            "1/2-1/2\n"
          ]
        }
      ],
      "source": [
        "for i in range(15):\n",
        "  game = chess.pgn.read_game(open(\"/content/drive/MyDrive/GamePlay/ResNet13_Mar28_vs_PlainNet1_Mar31/game{}.pgn\".format(i+1)))\n",
        "  print(game.headers[\"Result\"])"
      ]
    },
    {
      "cell_type": "markdown",
      "metadata": {
        "id": "lKH3NXdMVQyT"
      },
      "source": [
        "# **ResNet13 vs. stockfish**\n",
        "50 games, 25 games each with one player as white and another as black"
      ]
    },
    {
      "cell_type": "code",
      "execution_count": null,
      "metadata": {
        "colab": {
          "base_uri": "https://localhost:8080/"
        },
        "id": "TiwpDe47VTp0",
        "outputId": "8ad3e776-92bb-42d0-f34a-e0468dd512c3"
      },
      "outputs": [
        {
          "data": {
            "text/plain": [
              "ResNet13_encode13(\n",
              "  (conv): InBlock(\n",
              "    (conv1): Conv2d(13, 256, kernel_size=(3, 3), stride=(1, 1), padding=(1, 1))\n",
              "    (bn1): BatchNorm2d(256, eps=1e-05, momentum=0.1, affine=True, track_running_stats=True)\n",
              "  )\n",
              "  (resblocks): ModuleList(\n",
              "    (0-12): 13 x ResBlock(\n",
              "      (conv1): Conv2d(256, 256, kernel_size=(3, 3), stride=(1, 1), padding=(1, 1), bias=False)\n",
              "      (bn1): BatchNorm2d(256, eps=1e-05, momentum=0.1, affine=True, track_running_stats=True)\n",
              "      (conv2): Conv2d(256, 256, kernel_size=(3, 3), stride=(1, 1), padding=(1, 1), bias=False)\n",
              "      (bn2): BatchNorm2d(256, eps=1e-05, momentum=0.1, affine=True, track_running_stats=True)\n",
              "    )\n",
              "  )\n",
              "  (outblock): OutBlock(\n",
              "    (conv): Conv2d(256, 1, kernel_size=(1, 1), stride=(1, 1))\n",
              "    (bn): BatchNorm2d(1, eps=1e-05, momentum=0.1, affine=True, track_running_stats=True)\n",
              "    (fc1): Linear(in_features=64, out_features=256, bias=True)\n",
              "    (fc2): Linear(in_features=256, out_features=1, bias=True)\n",
              "  )\n",
              ")"
            ]
          },
          "execution_count": 10,
          "metadata": {},
          "output_type": "execute_result"
        }
      ],
      "source": [
        "model_white = ResNet13_encode13()\n",
        "model_black = ResNet13_encode13()\n",
        "cuda = torch.cuda.is_available()\n",
        "if cuda:\n",
        "  model_white.cuda()\n",
        "  checkpoint = torch.load(\"/content/drive/MyDrive/ResNet13_Mar28/ResNet13_Mar28_training_checkpoint_epoch19.ckpt\")\n",
        "  model_white.load_state_dict(checkpoint['state_dict'])\n",
        "  model_black.cuda()\n",
        "  checkpoint = torch.load(\"/content/drive/MyDrive/ResNet13_Mar28/ResNet13_Mar28_training_checkpoint_epoch19.ckpt\")\n",
        "  model_black.load_state_dict(checkpoint['state_dict'])\n",
        "else:\n",
        "  checkpoint = torch.load(\"/content/drive/MyDrive/ResNet13_Mar28/ResNet13_Mar28_training_checkpoint_epoch19.ckpt\", map_location=torch.device('cpu'))\n",
        "  model_white.load_state_dict(checkpoint['state_dict'])\n",
        "  checkpoint = torch.load(\"/content/drive/MyDrive/ResNet13_Mar28/ResNet13_Mar28_training_checkpoint_epoch19.ckpt\", map_location=torch.device('cpu'))\n",
        "  model_black.load_state_dict(checkpoint['state_dict'])\n",
        "model_white.eval()\n",
        "model_black.eval()"
      ]
    },
    {
      "cell_type": "code",
      "execution_count": null,
      "metadata": {
        "colab": {
          "base_uri": "https://localhost:8080/"
        },
        "id": "TVJlmJiMVgIN",
        "outputId": "75c102f2-6d56-404e-9555-119dae476070"
      },
      "outputs": [
        {
          "name": "stdout",
          "output_type": "stream",
          "text": [
            "Game saved to /content/drive/MyDrive/GamePlay/ResNet13_Mar28_vs_stockfish/game1.pgn\n",
            "Game saved to /content/drive/MyDrive/GamePlay/ResNet13_Mar28_vs_stockfish/game2.pgn\n",
            "Game saved to /content/drive/MyDrive/GamePlay/ResNet13_Mar28_vs_stockfish/game3.pgn\n",
            "Game saved to /content/drive/MyDrive/GamePlay/ResNet13_Mar28_vs_stockfish/game4.pgn\n",
            "Game saved to /content/drive/MyDrive/GamePlay/ResNet13_Mar28_vs_stockfish/game5.pgn\n",
            "Game saved to /content/drive/MyDrive/GamePlay/ResNet13_Mar28_vs_stockfish/game6.pgn\n",
            "Game saved to /content/drive/MyDrive/GamePlay/ResNet13_Mar28_vs_stockfish/game7.pgn\n",
            "Game saved to /content/drive/MyDrive/GamePlay/ResNet13_Mar28_vs_stockfish/game8.pgn\n",
            "Game saved to /content/drive/MyDrive/GamePlay/ResNet13_Mar28_vs_stockfish/game9.pgn\n",
            "Game saved to /content/drive/MyDrive/GamePlay/ResNet13_Mar28_vs_stockfish/game10.pgn\n",
            "Game saved to /content/drive/MyDrive/GamePlay/ResNet13_Mar28_vs_stockfish/game11.pgn\n",
            "Game saved to /content/drive/MyDrive/GamePlay/ResNet13_Mar28_vs_stockfish/game12.pgn\n",
            "Game saved to /content/drive/MyDrive/GamePlay/ResNet13_Mar28_vs_stockfish/game13.pgn\n",
            "Game saved to /content/drive/MyDrive/GamePlay/ResNet13_Mar28_vs_stockfish/game14.pgn\n",
            "Game saved to /content/drive/MyDrive/GamePlay/ResNet13_Mar28_vs_stockfish/game15.pgn\n",
            "Game saved to /content/drive/MyDrive/GamePlay/ResNet13_Mar28_vs_stockfish/game16.pgn\n",
            "Game saved to /content/drive/MyDrive/GamePlay/ResNet13_Mar28_vs_stockfish/game17.pgn\n",
            "Game saved to /content/drive/MyDrive/GamePlay/ResNet13_Mar28_vs_stockfish/game18.pgn\n",
            "Game saved to /content/drive/MyDrive/GamePlay/ResNet13_Mar28_vs_stockfish/game19.pgn\n",
            "Game saved to /content/drive/MyDrive/GamePlay/ResNet13_Mar28_vs_stockfish/game20.pgn\n",
            "Game saved to /content/drive/MyDrive/GamePlay/ResNet13_Mar28_vs_stockfish/game21.pgn\n",
            "Game saved to /content/drive/MyDrive/GamePlay/ResNet13_Mar28_vs_stockfish/game22.pgn\n",
            "Game saved to /content/drive/MyDrive/GamePlay/ResNet13_Mar28_vs_stockfish/game23.pgn\n",
            "Game saved to /content/drive/MyDrive/GamePlay/ResNet13_Mar28_vs_stockfish/game24.pgn\n",
            "Game saved to /content/drive/MyDrive/GamePlay/ResNet13_Mar28_vs_stockfish/game25.pgn\n"
          ]
        }
      ],
      "source": [
        "# play 25 games\n",
        "\n",
        "for i in range(25):\n",
        "  # Create a new game\n",
        "  game = chess.pgn.Game()\n",
        "  game.headers[\"Event\"] = \"Game Play\"\n",
        "  game.headers[\"Site\"] = \"Google Colab\"\n",
        "  game.headers[\"Date\"] = datetime.datetime.now().strftime(\"%Y.%m.%d %H:%M:%S\")\n",
        "  game.headers[\"Round\"] = str(i+1)\n",
        "  game.headers[\"White\"] = \"ResNet13_Mar28\"\n",
        "  game.headers[\"Black\"] = \"stockfish\"\n",
        "  game_node = game\n",
        "  pgn_file = \"/content/drive/MyDrive/GamePlay/ResNet13_Mar28_vs_stockfish/game{}.pgn\".format(i+1)\n",
        "\n",
        "  board = chess.Board()\n",
        "  for _ in range(10):\n",
        "    all_moves = list(board.legal_moves)\n",
        "    move = random.choice(all_moves)\n",
        "    board.push(move)\n",
        "    game_node = game_node.add_variation(move)\n",
        "\n",
        "  with chess.engine.SimpleEngine.popen_uci(\"/usr/games/stockfish\") as sf:\n",
        "    while True:\n",
        "      move = get_ai_move(board, model_white, chess.WHITE, move_encoded=False, depth=2)\n",
        "      # move = sf.analyse(board, chess.engine.Limit(time=1))['pv'][0]\n",
        "      board.push(move)\n",
        "      game_node = game_node.add_variation(move)\n",
        "      # print('\\nWhite plays...')\n",
        "      # display(SVG(chess.svg.board(board=board, size=150)))  # Display board image\n",
        "\n",
        "      # print(board)\n",
        "      if board.is_game_over():\n",
        "        game.headers[\"Result\"] = board.result()\n",
        "        with open(pgn_file, \"w\") as f:\n",
        "          exporter = chess.pgn.FileExporter(f)\n",
        "          game.accept(exporter)\n",
        "        print(\"Game saved to\", pgn_file)\n",
        "        break\n",
        "\n",
        "      # move = get_ai_move(board, model_black, chess.BLACK, move_encoded=False, depth=2)\n",
        "      move = sf.analyse(board, chess.engine.Limit(depth=3))['pv'][0]\n",
        "      board.push(move)\n",
        "      game_node = game_node.add_variation(move)\n",
        "      # print('\\nBlack plays...')\n",
        "      # display(SVG(chess.svg.board(board=board, size=150)))  # Display board image\n",
        "\n",
        "      # print(board)\n",
        "      if board.is_game_over():\n",
        "        game.headers[\"Result\"] = board.result()\n",
        "        with open(pgn_file, \"w\") as f:\n",
        "          exporter = chess.pgn.FileExporter(f)\n",
        "          game.accept(exporter)\n",
        "        print(\"Game saved to\", pgn_file)\n",
        "        break"
      ]
    },
    {
      "cell_type": "code",
      "execution_count": 13,
      "metadata": {
        "colab": {
          "base_uri": "https://localhost:8080/"
        },
        "id": "wKY4fwKwWKut",
        "outputId": "55202f3c-5957-4ae4-8675-3f19facbd0e6"
      },
      "outputs": [
        {
          "output_type": "stream",
          "name": "stdout",
          "text": [
            "Game saved to /content/drive/MyDrive/GamePlay/stockfish_vs_ResNet13_Mar28/game1.pgn\n",
            "Game saved to /content/drive/MyDrive/GamePlay/stockfish_vs_ResNet13_Mar28/game2.pgn\n",
            "Game saved to /content/drive/MyDrive/GamePlay/stockfish_vs_ResNet13_Mar28/game3.pgn\n",
            "Game saved to /content/drive/MyDrive/GamePlay/stockfish_vs_ResNet13_Mar28/game4.pgn\n",
            "Game saved to /content/drive/MyDrive/GamePlay/stockfish_vs_ResNet13_Mar28/game5.pgn\n",
            "Game saved to /content/drive/MyDrive/GamePlay/stockfish_vs_ResNet13_Mar28/game6.pgn\n",
            "Game saved to /content/drive/MyDrive/GamePlay/stockfish_vs_ResNet13_Mar28/game7.pgn\n",
            "Game saved to /content/drive/MyDrive/GamePlay/stockfish_vs_ResNet13_Mar28/game8.pgn\n",
            "Game saved to /content/drive/MyDrive/GamePlay/stockfish_vs_ResNet13_Mar28/game9.pgn\n",
            "Game saved to /content/drive/MyDrive/GamePlay/stockfish_vs_ResNet13_Mar28/game10.pgn\n",
            "Game saved to /content/drive/MyDrive/GamePlay/stockfish_vs_ResNet13_Mar28/game11.pgn\n",
            "Game saved to /content/drive/MyDrive/GamePlay/stockfish_vs_ResNet13_Mar28/game12.pgn\n",
            "Game saved to /content/drive/MyDrive/GamePlay/stockfish_vs_ResNet13_Mar28/game13.pgn\n",
            "Game saved to /content/drive/MyDrive/GamePlay/stockfish_vs_ResNet13_Mar28/game14.pgn\n",
            "Game saved to /content/drive/MyDrive/GamePlay/stockfish_vs_ResNet13_Mar28/game15.pgn\n",
            "Game saved to /content/drive/MyDrive/GamePlay/stockfish_vs_ResNet13_Mar28/game16.pgn\n",
            "Game saved to /content/drive/MyDrive/GamePlay/stockfish_vs_ResNet13_Mar28/game17.pgn\n",
            "Game saved to /content/drive/MyDrive/GamePlay/stockfish_vs_ResNet13_Mar28/game18.pgn\n",
            "Game saved to /content/drive/MyDrive/GamePlay/stockfish_vs_ResNet13_Mar28/game19.pgn\n",
            "Game saved to /content/drive/MyDrive/GamePlay/stockfish_vs_ResNet13_Mar28/game20.pgn\n",
            "Game saved to /content/drive/MyDrive/GamePlay/stockfish_vs_ResNet13_Mar28/game21.pgn\n",
            "Game saved to /content/drive/MyDrive/GamePlay/stockfish_vs_ResNet13_Mar28/game22.pgn\n",
            "Game saved to /content/drive/MyDrive/GamePlay/stockfish_vs_ResNet13_Mar28/game23.pgn\n",
            "Game saved to /content/drive/MyDrive/GamePlay/stockfish_vs_ResNet13_Mar28/game24.pgn\n",
            "Game saved to /content/drive/MyDrive/GamePlay/stockfish_vs_ResNet13_Mar28/game25.pgn\n"
          ]
        }
      ],
      "source": [
        "# play 25 games\n",
        "\n",
        "for i in range(25):\n",
        "  # Create a new game\n",
        "  game = chess.pgn.Game()\n",
        "  game.headers[\"Event\"] = \"Game Play\"\n",
        "  game.headers[\"Site\"] = \"Google Colab\"\n",
        "  game.headers[\"Date\"] = datetime.datetime.now().strftime(\"%Y.%m.%d %H:%M:%S\")\n",
        "  game.headers[\"Round\"] = str(i+1)\n",
        "  game.headers[\"White\"] = \"stockfish\"\n",
        "  game.headers[\"Black\"] = \"ResNet13_Mar28\"\n",
        "  game_node = game\n",
        "  pgn_file = \"/content/drive/MyDrive/GamePlay/stockfish_vs_ResNet13_Mar28/game{}.pgn\".format(i+1)\n",
        "\n",
        "  board = chess.Board()\n",
        "  for _ in range(10):\n",
        "    all_moves = list(board.legal_moves)\n",
        "    move = random.choice(all_moves)\n",
        "    board.push(move)\n",
        "    game_node = game_node.add_variation(move)\n",
        "\n",
        "  with chess.engine.SimpleEngine.popen_uci(\"/usr/games/stockfish\") as sf:\n",
        "    while True:\n",
        "      # move = get_ai_move(board, model_white, chess.WHITE, move_encoded=False, depth=2)\n",
        "      move = sf.analyse(board, chess.engine.Limit(depth=3))['pv'][0]\n",
        "      board.push(move)\n",
        "      game_node = game_node.add_variation(move)\n",
        "      # print('\\nWhite plays...')\n",
        "      # display(SVG(chess.svg.board(board=board, size=150)))  # Display board image\n",
        "\n",
        "      # print(board)\n",
        "      if board.is_game_over():\n",
        "        game.headers[\"Result\"] = board.result()\n",
        "        with open(pgn_file, \"w\") as f:\n",
        "          exporter = chess.pgn.FileExporter(f)\n",
        "          game.accept(exporter)\n",
        "        print(\"Game saved to\", pgn_file)\n",
        "        break\n",
        "\n",
        "      move = get_ai_move(board, model_black, chess.BLACK, move_encoded=False, depth=2)\n",
        "      # move = sf.analyse(board, chess.engine.Limit(depth=3))['pv'][0]\n",
        "      board.push(move)\n",
        "      game_node = game_node.add_variation(move)\n",
        "      # print('\\nBlack plays...')\n",
        "      # display(SVG(chess.svg.board(board=board, size=150)))  # Display board image\n",
        "\n",
        "      # print(board)\n",
        "      if board.is_game_over():\n",
        "        game.headers[\"Result\"] = board.result()\n",
        "        with open(pgn_file, \"w\") as f:\n",
        "          exporter = chess.pgn.FileExporter(f)\n",
        "          game.accept(exporter)\n",
        "        print(\"Game saved to\", pgn_file)\n",
        "        break"
      ]
    }
  ],
  "metadata": {
    "colab": {
      "provenance": [],
      "authorship_tag": "ABX9TyPl3T611zAnKa6ZrVK6KvBg"
    },
    "kernelspec": {
      "display_name": "Python 3",
      "name": "python3"
    },
    "language_info": {
      "name": "python"
    }
  },
  "nbformat": 4,
  "nbformat_minor": 0
}
