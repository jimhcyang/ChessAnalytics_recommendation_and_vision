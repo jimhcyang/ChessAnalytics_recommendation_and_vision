{
  "nbformat": 4,
  "nbformat_minor": 0,
  "metadata": {
    "colab": {
      "provenance": [],
      "gpuType": "T4",
      "authorship_tag": "ABX9TyONQCRCxl3NXPUAbx8yVY4A",
      "include_colab_link": true
    },
    "kernelspec": {
      "name": "python3",
      "display_name": "Python 3"
    },
    "language_info": {
      "name": "python"
    },
    "accelerator": "GPU"
  },
  "cells": [
    {
      "cell_type": "markdown",
      "metadata": {
        "id": "view-in-github",
        "colab_type": "text"
      },
      "source": [
        "<a href=\"https://colab.research.google.com/github/nankivel/capstone/blob/main/training_data_generation.ipynb\" target=\"_parent\"><img src=\"https://colab.research.google.com/assets/colab-badge.svg\" alt=\"Open In Colab\"/></a>"
      ]
    },
    {
      "cell_type": "code",
      "execution_count": 1,
      "metadata": {
        "colab": {
          "base_uri": "https://localhost:8080/"
        },
        "id": "nA17eMIJVZD-",
        "outputId": "bfa5a9f1-3418-432a-c556-a8047849c1b8"
      },
      "outputs": [
        {
          "output_type": "stream",
          "name": "stdout",
          "text": [
            "Collecting chess\n",
            "  Downloading chess-1.10.0-py3-none-any.whl (154 kB)\n",
            "\u001b[2K     \u001b[90m━━━━━━━━━━━━━━━━━━━━━━━━━━━━━━━━━━━━━━━━\u001b[0m \u001b[32m154.4/154.4 kB\u001b[0m \u001b[31m1.8 MB/s\u001b[0m eta \u001b[36m0:00:00\u001b[0m\n",
            "\u001b[?25hInstalling collected packages: chess\n",
            "Successfully installed chess-1.10.0\n"
          ]
        }
      ],
      "source": [
        "pip install chess"
      ]
    },
    {
      "cell_type": "code",
      "source": [
        "pip install zstandard"
      ],
      "metadata": {
        "colab": {
          "base_uri": "https://localhost:8080/"
        },
        "id": "NnGaRBrDX8Vc",
        "outputId": "77b33f18-8e1b-4730-a9d7-d07cdf4a3714"
      },
      "execution_count": 2,
      "outputs": [
        {
          "output_type": "stream",
          "name": "stdout",
          "text": [
            "Collecting zstandard\n",
            "  Downloading zstandard-0.22.0-cp310-cp310-manylinux_2_17_x86_64.manylinux2014_x86_64.whl (5.4 MB)\n",
            "\u001b[2K     \u001b[90m━━━━━━━━━━━━━━━━━━━━━━━━━━━━━━━━━━━━━━━━\u001b[0m \u001b[32m5.4/5.4 MB\u001b[0m \u001b[31m18.7 MB/s\u001b[0m eta \u001b[36m0:00:00\u001b[0m\n",
            "\u001b[?25hInstalling collected packages: zstandard\n",
            "Successfully installed zstandard-0.22.0\n"
          ]
        }
      ]
    },
    {
      "cell_type": "code",
      "source": [
        "import os\n",
        "import datetime\n",
        "import chess\n",
        "import chess.engine\n",
        "import random\n",
        "import numpy as np\n",
        "import pydot\n",
        "from tqdm import tqdm\n",
        "import io\n",
        "import json\n",
        "import graphviz\n",
        "import torch\n",
        "import torch.nn as nn\n",
        "import torch.nn.functional as F\n",
        "import torch.optim as optim\n",
        "from torch.utils.data import Dataset, DataLoader\n",
        "import matplotlib\n",
        "matplotlib.use(\"Agg\")\n",
        "import matplotlib.pyplot as plt\n",
        "%matplotlib inline\n",
        "from IPython.display import display, SVG\n",
        "import zstandard"
      ],
      "metadata": {
        "id": "ToQP88obVfGN"
      },
      "execution_count": 3,
      "outputs": []
    },
    {
      "cell_type": "code",
      "source": [
        "from google.colab import drive\n",
        "drive.mount('/content/drive/')"
      ],
      "metadata": {
        "colab": {
          "base_uri": "https://localhost:8080/"
        },
        "id": "sV6WguWLVmoO",
        "outputId": "210a1b9f-4689-479d-dbe6-9fb163453b64"
      },
      "execution_count": 4,
      "outputs": [
        {
          "output_type": "stream",
          "name": "stdout",
          "text": [
            "Mounted at /content/drive/\n"
          ]
        }
      ]
    },
    {
      "cell_type": "code",
      "source": [
        "!apt-get install -y stockfish"
      ],
      "metadata": {
        "colab": {
          "base_uri": "https://localhost:8080/"
        },
        "id": "F8l3T3cPVuoF",
        "outputId": "f07059ca-7f24-4deb-d483-e46dfdb3c156"
      },
      "execution_count": 5,
      "outputs": [
        {
          "output_type": "stream",
          "name": "stdout",
          "text": [
            "Reading package lists... Done\n",
            "Building dependency tree... Done\n",
            "Reading state information... Done\n",
            "Suggested packages:\n",
            "  polyglot xboard | scid\n",
            "The following NEW packages will be installed:\n",
            "  stockfish\n",
            "0 upgraded, 1 newly installed, 0 to remove and 39 not upgraded.\n",
            "Need to get 24.8 MB of archives.\n",
            "After this operation, 47.4 MB of additional disk space will be used.\n",
            "Get:1 http://archive.ubuntu.com/ubuntu jammy/universe amd64 stockfish amd64 14.1-1 [24.8 MB]\n",
            "Fetched 24.8 MB in 2s (12.3 MB/s)\n",
            "Selecting previously unselected package stockfish.\n",
            "(Reading database ... 121753 files and directories currently installed.)\n",
            "Preparing to unpack .../stockfish_14.1-1_amd64.deb ...\n",
            "Unpacking stockfish (14.1-1) ...\n",
            "Setting up stockfish (14.1-1) ...\n",
            "Processing triggers for man-db (2.10.2-1) ...\n"
          ]
        }
      ]
    },
    {
      "cell_type": "code",
      "source": [
        "# help functions\n",
        "\n",
        "def stockfish(board, depth):\n",
        "  with chess.engine.SimpleEngine.popen_uci(\"/usr/games/stockfish\") as sf:\n",
        "    result = sf.analyse(board, chess.engine.Limit(depth=depth))\n",
        "    score = result['score'].white().score()\n",
        "  return score\n",
        "\n",
        "def board_encoder(board):\n",
        "  encoded_board = np.zeros([8,8,15]).astype(np.int8)\n",
        "  fen = board.fen()\n",
        "  fen_field = fen.split(' ')\n",
        "  PiecePlacement = fen_field[0].split('/')\n",
        "  piece_dict = {\"R\":0, \"N\":1, \"B\":2, \"Q\":3, \"K\":4, \"P\":5,\n",
        "                \"r\":6, \"n\":7, \"b\":8, \"q\":9, \"k\":10, \"p\":11\n",
        "                }\n",
        "  for rank in range(8):\n",
        "    pieces = ''\n",
        "    for c in PiecePlacement[rank]:\n",
        "      if c.isnumeric():\n",
        "        pieces += '-'*int(c)\n",
        "      else:\n",
        "        pieces += c\n",
        "    for file in range(8):\n",
        "      if pieces[file] != '-':\n",
        "        encoded_board[rank, file, piece_dict[pieces[file]]] = 1\n",
        "  # plane 12 encodes all the legal moves of white\n",
        "  aux = board.turn\n",
        "  board.turn = chess.WHITE\n",
        "  for move in board.legal_moves:\n",
        "    encoded_board[7-np.unravel_index(move.to_square, (8,8))[0], np.unravel_index(move.to_square, (8,8))[1], 12] = 1\n",
        "  # plane 13 encodes all the legal moves of black\n",
        "  board.turn = chess.BLACK\n",
        "  for move in board.legal_moves:\n",
        "    encoded_board[7-np.unravel_index(move.to_square, (8,8))[0], np.unravel_index(move.to_square, (8,8))[1], 13] = 1\n",
        "  board.turn = aux\n",
        "  # plane 14 encodes the current player to move: white is 1, black is 0\n",
        "  if fen_field[1] == 'w':\n",
        "    encoded_board[:,:,14] = 1\n",
        "  else:\n",
        "    encoded_board[:,:,14] = 0\n",
        "  return encoded_board"
      ],
      "metadata": {
        "id": "ekVsysKoWHrQ"
      },
      "execution_count": 6,
      "outputs": []
    },
    {
      "cell_type": "code",
      "source": [
        "def read_pgn_zst(file_path):\n",
        "  pgn_data = {}\n",
        "  with open(file_path, 'rb') as f:\n",
        "    decompressor = zstandard.ZstdDecompressor()\n",
        "    with decompressor.stream_reader(f) as reader:\n",
        "      text_stream = io.TextIOWrapper(reader, encoding='utf-8')\n",
        "      counter = 0\n",
        "      for line in text_stream:\n",
        "        counter += 1\n",
        "        data = json.loads(line)\n",
        "        pgn_data[counter] = data\n",
        "        if counter % 1000000 == 0:\n",
        "          merged_json = json.dumps(pgn_data)\n",
        "          with open(\"/content/drive/MyDrive/lichess_db_eval.\"+str(counter // 1000000)+\".json\", 'w') as output:\n",
        "            output.write(merged_json)\n",
        "          pgn_data = {}\n",
        "      print(f\"Loaded {counter} FEN positions\")"
      ],
      "metadata": {
        "id": "iJkRHd6nXmd7"
      },
      "execution_count": 7,
      "outputs": []
    },
    {
      "cell_type": "code",
      "source": [
        "# read_pgn_zst(\"/content/drive/MyDrive/lichess_db_eval.jsonl.zst\")"
      ],
      "metadata": {
        "id": "vgSPy527YdLr"
      },
      "execution_count": 8,
      "outputs": []
    },
    {
      "cell_type": "code",
      "source": [
        "with open(\"/content/drive/MyDrive/lichess_db_eval.1.json\", 'r') as json_file:\n",
        "  lichessdata = json.load(json_file)"
      ],
      "metadata": {
        "id": "SdQoc4VDWNe7"
      },
      "execution_count": 9,
      "outputs": []
    },
    {
      "cell_type": "code",
      "source": [
        "len(lichessdata)"
      ],
      "metadata": {
        "colab": {
          "base_uri": "https://localhost:8080/"
        },
        "id": "-OzPQirBfPik",
        "outputId": "1b7879fc-483f-4063-a6af-72b30e846a66"
      },
      "execution_count": 10,
      "outputs": [
        {
          "output_type": "execute_result",
          "data": {
            "text/plain": [
              "1000000"
            ]
          },
          "metadata": {},
          "execution_count": 10
        }
      ]
    },
    {
      "cell_type": "code",
      "source": [
        "fens = ['rn1q1rk1/pbp2ppp/1p1bp3/8/3Pp3/1P2PN2/PBPN1PPP/R2Q1RK1 w - -',\n",
        "        '3R4/p4pkp/3p2p1/2pP4/3brP2/P5PP/P2B4/7K b - -',\n",
        "        'rn3rk1/1b3ppp/p3pn2/1p6/1P6/1BB1PN2/1P3PPP/3RK2R w K -',\n",
        "        'r1bqk2r/2ppbpp1/p1n3np/1p6/3PP3/1B3N2/PP3PPP/RNBQ1RK1 w kq -',\n",
        "        'r4rk1/pp1b1ppp/2n1p3/2qp4/8/2PBP3/PP1N1PPP/R2QK2R w Q f'\n",
        "        ]\n",
        "\n",
        "boards = []\n",
        "for fen in fens:\n",
        "  try:\n",
        "    board = chess.Board(fen=fen)\n",
        "  except:\n",
        "    continue\n",
        "  boards.append(board_encoder(board))"
      ],
      "metadata": {
        "id": "x85X3gjReKww"
      },
      "execution_count": 11,
      "outputs": []
    },
    {
      "cell_type": "code",
      "source": [
        "len(boards)"
      ],
      "metadata": {
        "colab": {
          "base_uri": "https://localhost:8080/"
        },
        "id": "bGuQQjcbe1ZP",
        "outputId": "6621a6dc-b045-4cd5-ad70-e9e9cbe93534"
      },
      "execution_count": 12,
      "outputs": [
        {
          "output_type": "execute_result",
          "data": {
            "text/plain": [
              "4"
            ]
          },
          "metadata": {},
          "execution_count": 12
        }
      ]
    },
    {
      "cell_type": "code",
      "source": [
        "dataset_board = []\n",
        "dataset_v = []\n",
        "counter = 0\n",
        "for game in tqdm(lichessdata):\n",
        "  counter += 1\n",
        "  try:\n",
        "    board = chess.Board(fen=lichessdata[game]['fen'])\n",
        "    v = stockfish(board, 5)\n",
        "  except:\n",
        "    continue\n",
        "  if v is not None:\n",
        "    dataset_board.append(board_encoder(board))\n",
        "    dataset_v.append(v)\n",
        "  if counter % 100000 == 0:\n",
        "    dataset_board = np.array(dataset_board, dtype=np.int8)\n",
        "    dataset_v = np.array(dataset_v, dtype=np.int16)\n",
        "    np.savez(\"/content/drive/MyDrive/dataset_lichess\"+str(counter // 100000)+\".Mar21.npz\", X=dataset_board, y=dataset_v)\n",
        "    dataset_board = []\n",
        "    dataset_v = []"
      ],
      "metadata": {
        "colab": {
          "base_uri": "https://localhost:8080/"
        },
        "id": "Yj5E7ibddA5Y",
        "outputId": "8f12f5ad-8d3b-4805-e5eb-47f9f3887350"
      },
      "execution_count": null,
      "outputs": [
        {
          "output_type": "stream",
          "name": "stderr",
          "text": [
            "  0%|          | 486/1000000 [01:01<31:28:33,  8.82it/s]"
          ]
        }
      ]
    },
    {
      "cell_type": "code",
      "source": [],
      "metadata": {
        "id": "3oRsPqijgcHy"
      },
      "execution_count": null,
      "outputs": []
    }
  ]
}
