{
  "cells": [
    {
      "cell_type": "markdown",
      "metadata": {
        "colab_type": "text",
        "id": "view-in-github"
      },
      "source": [
        "<a href=\"https://colab.research.google.com/github/nankivel/capstone/blob/main/training_data_generation.ipynb\" target=\"_parent\"><img src=\"https://colab.research.google.com/assets/colab-badge.svg\" alt=\"Open In Colab\"/></a>"
      ]
    },
    {
      "cell_type": "code",
      "execution_count": null,
      "metadata": {
        "colab": {
          "base_uri": "https://localhost:8080/"
        },
        "id": "nA17eMIJVZD-",
        "outputId": "bfa5a9f1-3418-432a-c556-a8047849c1b8"
      },
      "outputs": [],
      "source": [
        "pip install chess"
      ]
    },
    {
      "cell_type": "code",
      "execution_count": null,
      "metadata": {
        "colab": {
          "base_uri": "https://localhost:8080/"
        },
        "id": "NnGaRBrDX8Vc",
        "outputId": "77b33f18-8e1b-4730-a9d7-d07cdf4a3714"
      },
      "outputs": [],
      "source": [
        "pip install zstandard"
      ]
    },
    {
      "cell_type": "code",
      "execution_count": null,
      "metadata": {
        "id": "ToQP88obVfGN"
      },
      "outputs": [],
      "source": [
        "import os\n",
        "import datetime\n",
        "import chess\n",
        "import chess.engine\n",
        "import random\n",
        "import numpy as np\n",
        "import pydot\n",
        "from tqdm import tqdm\n",
        "import io\n",
        "import json\n",
        "import graphviz\n",
        "import torch\n",
        "import torch.nn as nn\n",
        "import torch.nn.functional as F\n",
        "import torch.optim as optim\n",
        "from torch.utils.data import Dataset, DataLoader\n",
        "import matplotlib\n",
        "matplotlib.use(\"Agg\")\n",
        "import matplotlib.pyplot as plt\n",
        "%matplotlib inline\n",
        "from IPython.display import display, SVG\n",
        "\n",
        "import zstandard as zstd\n",
        "from pydrive.auth import GoogleAuth\n",
        "from pydrive.drive import GoogleDrive"
      ]
    },
    {
      "cell_type": "code",
      "execution_count": null,
      "metadata": {
        "colab": {
          "base_uri": "https://localhost:8080/"
        },
        "id": "sV6WguWLVmoO",
        "outputId": "210a1b9f-4689-479d-dbe6-9fb163453b64"
      },
      "outputs": [],
      "source": [
        "from google.colab import drive\n",
        "drive.mount('/content/drive/')"
      ]
    },
    {
      "cell_type": "code",
      "execution_count": null,
      "metadata": {
        "colab": {
          "base_uri": "https://localhost:8080/"
        },
        "id": "F8l3T3cPVuoF",
        "outputId": "f07059ca-7f24-4deb-d483-e46dfdb3c156"
      },
      "outputs": [],
      "source": [
        "!apt-get install -y stockfish"
      ]
    },
    {
      "cell_type": "code",
      "execution_count": null,
      "metadata": {
        "id": "ekVsysKoWHrQ"
      },
      "outputs": [],
      "source": [
        "# help functions\n",
        "\n",
        "def stockfish(board, depth):\n",
        "  with chess.engine.SimpleEngine.popen_uci(\"/usr/games/stockfish\") as sf:\n",
        "    result = sf.analyse(board, chess.engine.Limit(depth=depth))\n",
        "    score = result['score'].white().score()\n",
        "  return score\n",
        "\n",
        "def board_encoder(board):\n",
        "  encoded_board = np.zeros([8,8,15]).astype(np.int8)\n",
        "  fen = board.fen()\n",
        "  fen_field = fen.split(' ')\n",
        "  PiecePlacement = fen_field[0].split('/')\n",
        "  piece_dict = {\"R\":0, \"N\":1, \"B\":2, \"Q\":3, \"K\":4, \"P\":5,\n",
        "                \"r\":6, \"n\":7, \"b\":8, \"q\":9, \"k\":10, \"p\":11\n",
        "                }\n",
        "  for rank in range(8):\n",
        "    pieces = ''\n",
        "    for c in PiecePlacement[rank]:\n",
        "      if c.isnumeric():\n",
        "        pieces += '-'*int(c)\n",
        "      else:\n",
        "        pieces += c\n",
        "    for file in range(8):\n",
        "      if pieces[file] != '-':\n",
        "        encoded_board[rank, file, piece_dict[pieces[file]]] = 1\n",
        "  # plane 12 encodes all the legal moves of white\n",
        "  aux = board.turn\n",
        "  board.turn = chess.WHITE\n",
        "  for move in board.legal_moves:\n",
        "    encoded_board[7-np.unravel_index(move.to_square, (8,8))[0], np.unravel_index(move.to_square, (8,8))[1], 12] = 1\n",
        "  # plane 13 encodes all the legal moves of black\n",
        "  board.turn = chess.BLACK\n",
        "  for move in board.legal_moves:\n",
        "    encoded_board[7-np.unravel_index(move.to_square, (8,8))[0], np.unravel_index(move.to_square, (8,8))[1], 13] = 1\n",
        "  board.turn = aux\n",
        "  # plane 14 encodes the current player to move: white is 1, black is 0\n",
        "  if fen_field[1] == 'w':\n",
        "    encoded_board[:,:,14] = 1\n",
        "  else:\n",
        "    encoded_board[:,:,14] = 0\n",
        "  return encoded_board"
      ]
    },
    {
      "cell_type": "code",
      "execution_count": null,
      "metadata": {},
      "outputs": [],
      "source": [
        "def pos_from_drive(file_name='lichess_db_eval.jsonl.zst', asset_dir='asset'):\n",
        "    gauth = GoogleAuth()\n",
        "    gauth.DEFAULT_SETTINGS['client_config_file'] = 'client_secret_1057507276332-5mk9ac9q22rsmtm1idlqvpraq08ar8p5.apps.googleusercontent.com.json'\n",
        "    gauth.LoadCredentialsFile(\"mycreds.txt\")\n",
        "    if gauth.credentials is None:\n",
        "        gauth.LocalWebserverAuth()\n",
        "    elif gauth.access_token_expired:\n",
        "        gauth.Refresh()\n",
        "    else:\n",
        "        gauth.Authorize()\n",
        "    gauth.SaveCredentialsFile(\"mycreds.txt\")\n",
        "    drive = GoogleDrive(gauth)\n",
        "\n",
        "    def find_folder_id(folder_name):\n",
        "        file_list = drive.ListFile({'q': f\"title='{folder_name}' and mimeType='application/vnd.google-apps.folder' and trashed=false\"}).GetList()\n",
        "        for file in file_list:\n",
        "            if file['title'] == folder_name:\n",
        "                return file['id']\n",
        "        return None\n",
        "\n",
        "    def download_zst_file_from_drive(file_title, parent_id):\n",
        "        query = f\"'{parent_id}' in parents and trashed=false and title='{file_title}'\"\n",
        "        file_list = drive.ListFile({'q': query}).GetList()\n",
        "        if not file_list:\n",
        "            print(f\"No file found with title: {file_title}\")\n",
        "            return None\n",
        "        file = file_list[0]\n",
        "        print(\"loading zst file...\") #3min\n",
        "        file.GetContentFile(file_title)\n",
        "        return file_title\n",
        "\n",
        "    asset_folder_id = find_folder_id(asset_dir)\n",
        "    if asset_folder_id is None:\n",
        "        print(\"Asset folder not found.\")\n",
        "        return None\n",
        "\n",
        "    file_path = download_zst_file_from_drive(file_name, asset_folder_id)\n",
        "    if file_path is None:\n",
        "        return None\n",
        "\n",
        "    print(\"Processing zst file...\")\n",
        "    \n",
        "    fen_data = {}\n",
        "    counter = 0\n",
        "    with open(file_path, 'rb') as f:\n",
        "        decompressor = zstd.ZstdDecompressor()\n",
        "        with decompressor.stream_reader(f) as reader:\n",
        "            text_stream = io.TextIOWrapper(reader, encoding='utf-8')\n",
        "            for line in text_stream:\n",
        "                counter += 1\n",
        "                data = json.loads(line)\n",
        "                fen_data[counter] = data\n",
        "                if counter % 1000000 == 0:\n",
        "                    output_path = f\"lichess_db_eval.{counter // 1000000}.json\"\n",
        "                    with open(output_path, 'w') as output:\n",
        "                        json.dump(fen_data, output)\n",
        "                    break\n",
        "\n",
        "    print(f\"Loaded {counter} FEN positions\")\n",
        "\n",
        "    with open(\"lichess_db_eval.1.json\", 'r') as json_file:\n",
        "        lichessdata = json.load(json_file)\n",
        "\n",
        "    return lichessdata"
      ]
    },
    {
      "cell_type": "code",
      "execution_count": null,
      "metadata": {
        "colab": {
          "base_uri": "https://localhost:8080/"
        },
        "id": "-OzPQirBfPik",
        "outputId": "1b7879fc-483f-4063-a6af-72b30e846a66"
      },
      "outputs": [],
      "source": [
        "lichessdata = pos_from_drive()\n",
        "len(lichessdata)"
      ]
    },
    {
      "cell_type": "code",
      "execution_count": null,
      "metadata": {
        "id": "x85X3gjReKww"
      },
      "outputs": [],
      "source": [
        "fens = ['rn1q1rk1/pbp2ppp/1p1bp3/8/3Pp3/1P2PN2/PBPN1PPP/R2Q1RK1 w - -',\n",
        "        '3R4/p4pkp/3p2p1/2pP4/3brP2/P5PP/P2B4/7K b - -',\n",
        "        'rn3rk1/1b3ppp/p3pn2/1p6/1P6/1BB1PN2/1P3PPP/3RK2R w K -',\n",
        "        'r1bqk2r/2ppbpp1/p1n3np/1p6/3PP3/1B3N2/PP3PPP/RNBQ1RK1 w kq -',\n",
        "        'r4rk1/pp1b1ppp/2n1p3/2qp4/8/2PBP3/PP1N1PPP/R2QK2R w Q f'\n",
        "        ]\n",
        "\n",
        "boards = []\n",
        "for fen in fens:\n",
        "  try:\n",
        "    board = chess.Board(fen=fen)\n",
        "  except:\n",
        "    continue\n",
        "  boards.append(board_encoder(board))"
      ]
    },
    {
      "cell_type": "code",
      "execution_count": null,
      "metadata": {
        "colab": {
          "base_uri": "https://localhost:8080/"
        },
        "id": "bGuQQjcbe1ZP",
        "outputId": "6621a6dc-b045-4cd5-ad70-e9e9cbe93534"
      },
      "outputs": [],
      "source": [
        "len(boards)"
      ]
    },
    {
      "cell_type": "code",
      "execution_count": null,
      "metadata": {
        "colab": {
          "base_uri": "https://localhost:8080/"
        },
        "id": "Yj5E7ibddA5Y",
        "outputId": "8f12f5ad-8d3b-4805-e5eb-47f9f3887350"
      },
      "outputs": [],
      "source": [
        "dataset_board = []\n",
        "dataset_v = []\n",
        "counter = 0\n",
        "for game in tqdm(lichessdata):\n",
        "  counter += 1\n",
        "  try:\n",
        "    board = chess.Board(fen=lichessdata[game]['fen'])\n",
        "    v = stockfish(board, 5)\n",
        "  except:\n",
        "    continue\n",
        "  if v is not None:\n",
        "    dataset_board.append(board_encoder(board))\n",
        "    dataset_v.append(v)\n",
        "  if counter % 100000 == 0:\n",
        "    dataset_board = np.array(dataset_board, dtype=np.int8)\n",
        "    dataset_v = np.array(dataset_v, dtype=np.int16)\n",
        "    np.savez(\"/content/drive/MyDrive/dataset_lichess\"+str(counter // 100000)+\".Mar21.npz\", X=dataset_board, y=dataset_v)\n",
        "    dataset_board = []\n",
        "    dataset_v = []"
      ]
    },
    {
      "cell_type": "code",
      "execution_count": null,
      "metadata": {
        "id": "3oRsPqijgcHy"
      },
      "outputs": [],
      "source": []
    }
  ],
  "metadata": {
    "accelerator": "GPU",
    "colab": {
      "authorship_tag": "ABX9TyONQCRCxl3NXPUAbx8yVY4A",
      "gpuType": "T4",
      "include_colab_link": true,
      "provenance": []
    },
    "kernelspec": {
      "display_name": "Python 3",
      "name": "python3"
    },
    "language_info": {
      "codemirror_mode": {
        "name": "ipython",
        "version": 3
      },
      "file_extension": ".py",
      "mimetype": "text/x-python",
      "name": "python",
      "nbconvert_exporter": "python",
      "pygments_lexer": "ipython3",
      "version": "3.11.1"
    }
  },
  "nbformat": 4,
  "nbformat_minor": 0
}
