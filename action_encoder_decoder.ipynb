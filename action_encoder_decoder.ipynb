{
 "cells": [
  {
   "cell_type": "code",
   "execution_count": 1,
   "id": "initial_id",
   "metadata": {
    "collapsed": true,
    "ExecuteTime": {
     "end_time": "2024-03-12T04:21:59.883928Z",
     "start_time": "2024-03-12T04:21:59.616837Z"
    }
   },
   "outputs": [],
   "source": [
    "import chess\n",
    "import chess.engine\n",
    "import random\n",
    "import numpy as np"
   ]
  },
  {
   "cell_type": "code",
   "outputs": [
    {
     "name": "stdout",
     "output_type": "stream",
     "text": [
      "4108\n",
      "4107\n",
      "4106\n",
      "4105\n",
      "4104\n",
      "4103\n",
      "4102\n",
      "4116\n",
      "2977\n",
      "2978\n",
      "2976\n",
      "2979\n",
      "2343\n",
      "2350\n",
      "2357\n",
      "2364\n",
      "1036\n",
      "1090\n",
      "1091\n",
      "1089\n"
     ]
    }
   ],
   "source": [
    "def action_encoder(move:chess.Move):\n",
    "    # https://blog.devgenius.io/creating-an-ai-chess-engine-part-2-encoding-using-the-alphazero-method-63c3c3c3a960\n",
    "    row_dict = {'a': 0, 'b': 1, 'c': 2, 'd': 3, 'e': 4, 'f': 5, 'g': 6, 'h': 7}\n",
    "    try:\n",
    "        from_rank, from_file, to_rank, to_file = [x for x in move.uci()]\n",
    "    except ValueError:\n",
    "        from_rank, from_file, to_rank, to_file, _ = [x for x in move.uci()]\n",
    "    delta = (row_dict[to_rank] - row_dict[from_rank], int(to_file) - int(from_file))\n",
    "    # queen moves\n",
    "    directions_queenmove = (\n",
    "        (+1,  0),\n",
    "        (+1, +1),\n",
    "        ( 0, +1),\n",
    "        (-1, +1),\n",
    "        (-1,  0),\n",
    "        (-1, -1),\n",
    "        ( 0, -1),\n",
    "        (+1, -1)\n",
    "    )\n",
    "    # knight moves\n",
    "    directions_knightmove = (\n",
    "        (+2, +1),\n",
    "        (+1, +2),\n",
    "        (-1, +2),\n",
    "        (-2, +1),\n",
    "        (-2, -1),\n",
    "        (-1, -2),\n",
    "        (+1, -2),\n",
    "        (+2, -1),\n",
    "    )\n",
    "    # underpromotion moves\n",
    "    directions_underpromotion = (\n",
    "        -1,\n",
    "        0,\n",
    "        1\n",
    "    )\n",
    "    underpromotion_type = (\n",
    "        chess.KNIGHT,\n",
    "        chess.ROOK,\n",
    "        chess.BISHOP\n",
    "    )\n",
    "    # decide move types\n",
    "    is_horizontal = delta[0] == 0\n",
    "    is_vertical = delta[1] == 0\n",
    "    is_diagonal = abs(delta[0]) == abs(delta[1])\n",
    "    is_queen_promotion = move.promotion in (chess.QUEEN, None)\n",
    "    is_queen_move = (\n",
    "        (is_horizontal or is_vertical or is_diagonal) \n",
    "            and is_queen_promotion\n",
    "    )\n",
    "    is_knight_move = delta in directions_knightmove\n",
    "    is_underpromotion = (\n",
    "        move.promotion in underpromotion_type \n",
    "        and int(from_file) == 7 \n",
    "        and int(to_file) == 8\n",
    "    )\n",
    "    if is_queen_move:\n",
    "        direction = tuple(np.sign(delta))\n",
    "        distance = np.max(np.abs(delta))\n",
    "        direction_idx = directions_queenmove.index(direction)\n",
    "        distance_idx = distance - 1\n",
    "        move_idx = np.ravel_multi_index(\n",
    "            multi_index=([direction_idx, distance_idx]),\n",
    "            dims=(8,7)\n",
    "        )\n",
    "        action = np.ravel_multi_index(\n",
    "            multi_index=((row_dict[from_rank], int(from_file)-1, move_idx)),\n",
    "            dims=(8, 8, 73)\n",
    "        )\n",
    "        return action\n",
    "    elif is_knight_move:\n",
    "        direction_idx = directions_knightmove.index(delta)\n",
    "        move_idx = direction_idx + 56 # knight moves start from index 56\n",
    "        action = np.ravel_multi_index(\n",
    "            multi_index=((row_dict[from_rank], int(from_file)-1, move_idx)),\n",
    "            dims=(8, 8, 73)\n",
    "        )\n",
    "        return action\n",
    "    elif is_underpromotion:\n",
    "        delta = row_dict[to_rank] - row_dict[from_rank]\n",
    "        direction_idx = directions_underpromotion.index(delta)\n",
    "        promotion_idx = underpromotion_type.index(move.promotion)\n",
    "        move_idx = np.ravel_multi_index(\n",
    "            multi_index=([direction_idx, promotion_idx]),\n",
    "            dims=(3,3)\n",
    "        )\n",
    "        move_idx = move_idx + 64 # underpromtion moves start from index 64\n",
    "        action = np.ravel_multi_index(\n",
    "            multi_index=((row_dict[from_rank], int(from_file)-1, move_idx)),\n",
    "            dims=(8, 8, 73)\n",
    "        )\n",
    "        return action\n",
    "    else:\n",
    "        return None\n",
    "\n",
    "board = chess.Board(\"4k3/1P6/8/8/8/8/1p6/4KN1R w K - 0 1\")\n",
    "for move in board.legal_moves:\n",
    "    print(action_encoder(move))"
   ],
   "metadata": {
    "collapsed": false,
    "ExecuteTime": {
     "end_time": "2024-03-12T04:22:37.334859Z",
     "start_time": "2024-03-12T04:22:37.316734Z"
    }
   },
   "id": "bfb35c17f791195b",
   "execution_count": 3
  },
  {
   "cell_type": "code",
   "outputs": [],
   "source": [
    "def decode_action(board:chess.Board, action_encoded):\n",
    "    num_to_file = {0: 'a', 1: 'b', 2: 'c', 3: 'd', 4: 'e', 5: 'f', 6: 'g', 7: 'h'}\n",
    "    encoded_a = np.zeros([4672])\n",
    "    encoded_a[action_encoded] = 1\n",
    "    encoded_a = encoded_a.reshape(8,8,73)\n",
    "    idx_i, idx_j, idx_k = np.where(encoded_a == 1)\n",
    "    promotion = None\n",
    "    for pos in zip(idx_i, idx_j, idx_k):\n",
    "        i, j, k = pos\n",
    "        # print(i, j, k)\n",
    "    start_pos = (num_to_file[i], j+1)\n",
    "    if k < 56: # queen move\n",
    "        directions_queenmove = (\n",
    "        (+1,  0),\n",
    "        (+1, +1),\n",
    "        ( 0, +1),\n",
    "        (-1, +1),\n",
    "        (-1,  0),\n",
    "        (-1, -1),\n",
    "        ( 0, -1),\n",
    "        (+1, -1)\n",
    "        )\n",
    "        distance_idx = k%7\n",
    "        direction_idx = (k-distance_idx)//7\n",
    "        finish_pos = (num_to_file[i+(distance_idx+1)*directions_queenmove[direction_idx][0]], j+1+(distance_idx+1)*directions_queenmove[direction_idx][1])\n",
    "        if start_pos[1] == 7 and finish_pos[1] == 8 and board.piece_at(j*8+i).symbol() in ['p', 'P']:\n",
    "            promotion = 'q'\n",
    "    elif k < 64: # knight move\n",
    "        directions_knightmove = (\n",
    "        (+2, +1),\n",
    "        (+1, +2),\n",
    "        (-1, +2),\n",
    "        (-2, +1),\n",
    "        (-2, -1),\n",
    "        (-1, -2),\n",
    "        (+1, -2),\n",
    "        (+2, -1),\n",
    "        )\n",
    "        finish_pos = (num_to_file[i+directions_knightmove[k-56][0]], j+1+directions_knightmove[k-56][1])\n",
    "    else: # underpromotion move\n",
    "        directions_underpromotion = (\n",
    "        -1,\n",
    "        0,\n",
    "        1\n",
    "        )\n",
    "        promotion_idx = (k-64)%3\n",
    "        distance_idx = (k-64-promotion_idx)//3\n",
    "        finish_pos = (num_to_file[i+directions_underpromotion[distance_idx]], j+2)\n",
    "        if promotion_idx == 0:\n",
    "            promotion = 'n'\n",
    "        elif promotion_idx == 1:\n",
    "            promotion = 'r'\n",
    "        else:\n",
    "            promotion = 'b'\n",
    "    if promotion is  None:\n",
    "        return str(start_pos[0])+str(start_pos[1])+str(finish_pos[0])+str(finish_pos[1])\n",
    "    else:\n",
    "        return str(start_pos[0])+str(start_pos[1])+str(finish_pos[0])+str(finish_pos[1])+promotion"
   ],
   "metadata": {
    "collapsed": false,
    "ExecuteTime": {
     "end_time": "2024-03-12T04:23:10.041955Z",
     "start_time": "2024-03-12T04:23:10.028774Z"
    }
   },
   "id": "3cfb4bd3b63331a9",
   "execution_count": 4
  },
  {
   "cell_type": "code",
   "outputs": [
    {
     "name": "stdout",
     "output_type": "stream",
     "text": [
      "h1h8\n",
      "h1h7\n",
      "h1h6\n",
      "h1h5\n",
      "h1h4\n",
      "h1h3\n",
      "h1g1\n",
      "f1g3\n",
      "f1e3\n",
      "f1h2\n",
      "f1d2\n",
      "e1f2\n",
      "e1e2\n",
      "e1d2\n",
      "e1d1\n",
      "b7b8q\n",
      "b7b8r\n",
      "b7b8b\n",
      "b7b8n\n"
     ]
    }
   ],
   "source": [
    "for action in [4108, 4107, 4106, 4105, 4104, 4103,4116,2977,2978,2976,2979,2343,2350,2357,2364,1036,1090,1091,1089]:\n",
    "    print(decode_action(board, action))"
   ],
   "metadata": {
    "collapsed": false,
    "ExecuteTime": {
     "end_time": "2024-03-12T04:23:32.664319Z",
     "start_time": "2024-03-12T04:23:32.645319Z"
    }
   },
   "id": "a5ce8af114e839c2",
   "execution_count": 5
  },
  {
   "cell_type": "code",
   "outputs": [
    {
     "name": "stdout",
     "output_type": "stream",
     "text": [
      "h1h8\n",
      "h1h7\n",
      "h1h6\n",
      "h1h5\n",
      "h1h4\n",
      "h1h3\n",
      "h1h2\n",
      "h1g1\n",
      "f1g3\n",
      "f1e3\n",
      "f1h2\n",
      "f1d2\n",
      "e1f2\n",
      "e1e2\n",
      "e1d2\n",
      "e1d1\n",
      "b7b8q\n",
      "b7b8r\n",
      "b7b8b\n",
      "b7b8n\n"
     ]
    }
   ],
   "source": [
    "for move in board.legal_moves:\n",
    "    print(move)"
   ],
   "metadata": {
    "collapsed": false,
    "ExecuteTime": {
     "end_time": "2024-03-12T04:24:21.351974Z",
     "start_time": "2024-03-12T04:24:21.346964Z"
    }
   },
   "id": "7d753dad5fd30029",
   "execution_count": 8
  },
  {
   "cell_type": "code",
   "outputs": [],
   "source": [],
   "metadata": {
    "collapsed": false
   },
   "id": "2e0c1353b67cc2d1"
  }
 ],
 "metadata": {
  "kernelspec": {
   "display_name": "Python 3",
   "language": "python",
   "name": "python3"
  },
  "language_info": {
   "codemirror_mode": {
    "name": "ipython",
    "version": 2
   },
   "file_extension": ".py",
   "mimetype": "text/x-python",
   "name": "python",
   "nbconvert_exporter": "python",
   "pygments_lexer": "ipython2",
   "version": "2.7.6"
  }
 },
 "nbformat": 4,
 "nbformat_minor": 5
}
